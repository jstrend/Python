{
 "cells": [
  {
   "cell_type": "markdown",
   "id": "e2eaa08b",
   "metadata": {},
   "source": [
    "# Python tutorial Introduction"
   ]
  },
  {
   "cell_type": "markdown",
   "id": "0ae33d38",
   "metadata": {},
   "source": [
    "# https://docs.python.org/3.9/tutorial/introduction.html"
   ]
  },
  {
   "cell_type": "markdown",
   "id": "ab783ff9",
   "metadata": {},
   "source": [
    "# Data Structures"
   ]
  },
  {
   "cell_type": "markdown",
   "id": "ea53bddd",
   "metadata": {},
   "source": [
    "## More on Lists"
   ]
  },
  {
   "cell_type": "markdown",
   "id": "301d031a",
   "metadata": {},
   "source": [
    "### list.append(x)\n",
    "### Add an item to the end of the list. Equivalent to a[len(a):] = [x]."
   ]
  },
  {
   "cell_type": "markdown",
   "id": "30ab6df0",
   "metadata": {},
   "source": [
    "### list.extend(iterable)\n",
    "### Extend the list by appending all the items from the iterable. Equivalent to a[len(a):] = iterable."
   ]
  },
  {
   "cell_type": "markdown",
   "id": "34b2a8b0",
   "metadata": {},
   "source": [
    "### list.insert(i, x)\n",
    "### Insert an item at a given position. The first argument is the index of the element before which to insert, so a.insert(0, x) inserts at the front of the list, and a.insert(len(a), x) is equivalent to a.append(x)."
   ]
  },
  {
   "cell_type": "markdown",
   "id": "548ef910",
   "metadata": {},
   "source": [
    "### list.remove(x)\n",
    "### Remove the first item from the list whose value is equal to x. It raises a ValueError if there is no such item."
   ]
  },
  {
   "cell_type": "markdown",
   "id": "124185c5",
   "metadata": {},
   "source": [
    "### list.pop([i])\n",
    "### Remove the item at the given position in the list, and return it. If no index is specified, a.pop() removes and returns the last item in the list. (The square brackets(대괄호) around the i in the method signature denote that the parameter is optional, not that you should type square brackets at that position. You will see this notation frequently in the Python Library Reference.) \n",
    "### 소괄호(parentheses): ( ), 대괄호(square bracket): [ ], 중괄호(brace): { }"
   ]
  },
  {
   "cell_type": "markdown",
   "id": "c8f8fd95",
   "metadata": {},
   "source": [
    "### list.clear()\n",
    "### Remove all items from the list. Equivalent to del a[:]."
   ]
  },
  {
   "cell_type": "markdown",
   "id": "580fd553",
   "metadata": {},
   "source": [
    "### list.index(x[, start[, end]])\n",
    "### Return zero-based index in the list of the first item whose value is equal to x. Raises a ValueError if there is no such item."
   ]
  },
  {
   "cell_type": "markdown",
   "id": "beb1a5f0",
   "metadata": {},
   "source": [
    "### The optional arguments start and end are interpreted as in the slice notation and are used to limit the search to a particular subsequence of the list. The returned index is computed relative to the beginning of the full sequence rather than the start argument."
   ]
  },
  {
   "cell_type": "markdown",
   "id": "fc7f5429",
   "metadata": {},
   "source": [
    "### list.count(x)\n",
    "### Return the number of times x appears in the list."
   ]
  },
  {
   "cell_type": "markdown",
   "id": "b23e96e6",
   "metadata": {},
   "source": [
    "### list.sort(*, key=None, reverse=False)\n",
    "### Sort the items of the list in place (the arguments can be used for sort customization, see sorted() for their explanation)."
   ]
  },
  {
   "cell_type": "markdown",
   "id": "ee3517d6",
   "metadata": {},
   "source": [
    "### list.reverse()\n",
    "### Reverse the elements of the list in place."
   ]
  },
  {
   "cell_type": "markdown",
   "id": "d4f4507f",
   "metadata": {},
   "source": [
    "### list.copy()\n",
    "### Return a shallow copy of the list. Equivalent to a[:]."
   ]
  },
  {
   "cell_type": "code",
   "execution_count": 43,
   "id": "c0e160f1",
   "metadata": {},
   "outputs": [
    {
     "data": {
      "text/plain": [
       "2"
      ]
     },
     "execution_count": 43,
     "metadata": {},
     "output_type": "execute_result"
    }
   ],
   "source": [
    "fruits = ['orange', 'apple', 'pear', 'banana', 'kiwi', 'apple', 'banana']\n",
    "fruits.count('apple')"
   ]
  },
  {
   "cell_type": "code",
   "execution_count": 44,
   "id": "261043d5",
   "metadata": {},
   "outputs": [
    {
     "data": {
      "text/plain": [
       "0"
      ]
     },
     "execution_count": 44,
     "metadata": {},
     "output_type": "execute_result"
    }
   ],
   "source": [
    "fruits.count('tangerine')"
   ]
  },
  {
   "cell_type": "code",
   "execution_count": 45,
   "id": "41122211",
   "metadata": {},
   "outputs": [
    {
     "data": {
      "text/plain": [
       "3"
      ]
     },
     "execution_count": 45,
     "metadata": {},
     "output_type": "execute_result"
    }
   ],
   "source": [
    "fruits.index('banana')"
   ]
  },
  {
   "cell_type": "code",
   "execution_count": 46,
   "id": "6ce1474c",
   "metadata": {},
   "outputs": [
    {
     "data": {
      "text/plain": [
       "6"
      ]
     },
     "execution_count": 46,
     "metadata": {},
     "output_type": "execute_result"
    }
   ],
   "source": [
    "fruits.index('banana', 4)  # Find next banana starting a position 4"
   ]
  },
  {
   "cell_type": "code",
   "execution_count": 47,
   "id": "f621d592",
   "metadata": {},
   "outputs": [
    {
     "data": {
      "text/plain": [
       "['banana', 'apple', 'kiwi', 'banana', 'pear', 'apple', 'orange']"
      ]
     },
     "execution_count": 47,
     "metadata": {},
     "output_type": "execute_result"
    }
   ],
   "source": [
    "fruits.reverse()\n",
    "fruits"
   ]
  },
  {
   "cell_type": "code",
   "execution_count": 48,
   "id": "5635a5a9",
   "metadata": {},
   "outputs": [
    {
     "data": {
      "text/plain": [
       "['banana', 'apple', 'kiwi', 'banana', 'pear', 'apple', 'orange', 'grape']"
      ]
     },
     "execution_count": 48,
     "metadata": {},
     "output_type": "execute_result"
    }
   ],
   "source": [
    "fruits.append('grape')\n",
    "fruits"
   ]
  },
  {
   "cell_type": "code",
   "execution_count": 49,
   "id": "e7ac7e2e",
   "metadata": {},
   "outputs": [
    {
     "data": {
      "text/plain": [
       "['apple', 'apple', 'banana', 'banana', 'grape', 'kiwi', 'orange', 'pear']"
      ]
     },
     "execution_count": 49,
     "metadata": {},
     "output_type": "execute_result"
    }
   ],
   "source": [
    "fruits.sort()\n",
    "fruits"
   ]
  },
  {
   "cell_type": "code",
   "execution_count": 50,
   "id": "131b9f81",
   "metadata": {},
   "outputs": [
    {
     "data": {
      "text/plain": [
       "'pear'"
      ]
     },
     "execution_count": 50,
     "metadata": {},
     "output_type": "execute_result"
    }
   ],
   "source": [
    "fruits.pop()"
   ]
  },
  {
   "cell_type": "markdown",
   "id": "e765646b",
   "metadata": {},
   "source": [
    "### You might have noticed that methods like insert, remove or sort that only modify the list have no return value printed – they return the default None"
   ]
  },
  {
   "cell_type": "markdown",
   "id": "653b23aa",
   "metadata": {},
   "source": [
    "## Using Lists as Stacks"
   ]
  },
  {
   "cell_type": "markdown",
   "id": "d39ceee8",
   "metadata": {},
   "source": [
    "### The list methods make it very easy to use a list as a stack, where the last element added is the first element retrieved (“last-in, first-out”). To add an item to the top of the stack, use append(). To retrieve an item from the top of the stack, use pop() without an explicit index(명시적 인덱스)\n",
    "### Stack구조는 Last In First Out(LIFO) 구조로 In은 put으로, Out은 pop으로, Queue는 First In First Out(FIFO)"
   ]
  },
  {
   "cell_type": "markdown",
   "id": "5b9cb715",
   "metadata": {},
   "source": [
    "## Using Lists as Queues"
   ]
  },
  {
   "cell_type": "code",
   "execution_count": 1,
   "id": "09c86c9e",
   "metadata": {},
   "outputs": [
    {
     "data": {
      "text/plain": [
       "deque(['Eric', 'John', 'Michael', 'Terry'])"
      ]
     },
     "execution_count": 1,
     "metadata": {},
     "output_type": "execute_result"
    }
   ],
   "source": [
    "from collections import deque # implement a queue, use collections.deque\n",
    "queue = deque([\"Eric\", \"John\", \"Michael\"])\n",
    "queue.append(\"Terry\")           # Terry arrives\n",
    "queue"
   ]
  },
  {
   "cell_type": "code",
   "execution_count": 2,
   "id": "b36a1959",
   "metadata": {},
   "outputs": [
    {
     "data": {
      "text/plain": [
       "deque(['Eric', 'John', 'Michael', 'Terry', 'Graham'])"
      ]
     },
     "execution_count": 2,
     "metadata": {},
     "output_type": "execute_result"
    }
   ],
   "source": [
    "queue.append(\"Graham\")          # Graham arrives\n",
    "queue"
   ]
  },
  {
   "cell_type": "code",
   "execution_count": 3,
   "id": "848da26f",
   "metadata": {},
   "outputs": [
    {
     "data": {
      "text/plain": [
       "'Eric'"
      ]
     },
     "execution_count": 3,
     "metadata": {},
     "output_type": "execute_result"
    }
   ],
   "source": [
    "queue.popleft()                 # The first to arrive now leaves"
   ]
  },
  {
   "cell_type": "code",
   "execution_count": 4,
   "id": "d0487e6f",
   "metadata": {},
   "outputs": [
    {
     "data": {
      "text/plain": [
       "'John'"
      ]
     },
     "execution_count": 4,
     "metadata": {},
     "output_type": "execute_result"
    }
   ],
   "source": [
    "queue.popleft()                 # The second to arrive now leaves"
   ]
  },
  {
   "cell_type": "code",
   "execution_count": 5,
   "id": "5d8cab3d",
   "metadata": {},
   "outputs": [
    {
     "data": {
      "text/plain": [
       "deque(['Michael', 'Terry', 'Graham'])"
      ]
     },
     "execution_count": 5,
     "metadata": {},
     "output_type": "execute_result"
    }
   ],
   "source": [
    "queue                           # Remaining queue in order of arrival"
   ]
  },
  {
   "cell_type": "markdown",
   "id": "d22e66ed",
   "metadata": {},
   "source": [
    "## List Comprehensions"
   ]
  },
  {
   "cell_type": "code",
   "execution_count": 55,
   "id": "580f645c",
   "metadata": {},
   "outputs": [
    {
     "data": {
      "text/plain": [
       "[0, 1, 4, 9, 16, 25, 36, 49, 64, 81]"
      ]
     },
     "execution_count": 55,
     "metadata": {},
     "output_type": "execute_result"
    }
   ],
   "source": [
    "squares = []\n",
    "for x in range(10):\n",
    "    squares.append(x**2)\n",
    "squares"
   ]
  },
  {
   "cell_type": "code",
   "execution_count": 57,
   "id": "afa61b28",
   "metadata": {},
   "outputs": [
    {
     "data": {
      "text/plain": [
       "[0, 1, 4, 9, 16, 25, 36, 49, 64, 81]"
      ]
     },
     "execution_count": 57,
     "metadata": {},
     "output_type": "execute_result"
    }
   ],
   "source": [
    "squares = list(map(lambda x: x**2, range(10)))\n",
    "squares"
   ]
  },
  {
   "cell_type": "code",
   "execution_count": 59,
   "id": "249ebfb2",
   "metadata": {},
   "outputs": [
    {
     "data": {
      "text/plain": [
       "[0, 1, 4, 9, 16, 25, 36, 49, 64, 81]"
      ]
     },
     "execution_count": 59,
     "metadata": {},
     "output_type": "execute_result"
    }
   ],
   "source": [
    "squares = [x**2 for x in range(10)] # which is more concise and readable\n",
    "squares"
   ]
  },
  {
   "cell_type": "code",
   "execution_count": 62,
   "id": "fa43b711",
   "metadata": {
    "scrolled": true
   },
   "outputs": [
    {
     "data": {
      "text/plain": [
       "[(1, 3), (1, 4), (2, 3), (2, 1), (2, 4), (3, 1), (3, 4)]"
      ]
     },
     "execution_count": 62,
     "metadata": {},
     "output_type": "execute_result"
    }
   ],
   "source": [
    "[(x, y) for x in [1,2,3] for y in [3,1,4] if x != y]"
   ]
  },
  {
   "cell_type": "code",
   "execution_count": 6,
   "id": "d5031093",
   "metadata": {},
   "outputs": [
    {
     "data": {
      "text/plain": [
       "[(1, 3), (1, 4), (2, 3), (2, 1), (2, 4), (3, 1), (3, 4)]"
      ]
     },
     "execution_count": 6,
     "metadata": {},
     "output_type": "execute_result"
    }
   ],
   "source": [
    "[(x, y) for x in [1,2,3] \n",
    "             for y in [3,1,4] \n",
    "                     if x != y]"
   ]
  },
  {
   "cell_type": "code",
   "execution_count": 61,
   "id": "08788a75",
   "metadata": {},
   "outputs": [
    {
     "data": {
      "text/plain": [
       "[(1, 3), (1, 4), (2, 3), (2, 1), (2, 4), (3, 1), (3, 4)]"
      ]
     },
     "execution_count": 61,
     "metadata": {},
     "output_type": "execute_result"
    }
   ],
   "source": [
    "combs = []\n",
    "for x in [1,2,3]:\n",
    "    for y in [3,1,4]:\n",
    "        if x != y:\n",
    "            combs.append((x, y))\n",
    "combs"
   ]
  },
  {
   "cell_type": "markdown",
   "id": "832a218a",
   "metadata": {},
   "source": [
    "### If the expression is a tuple (e.g. the (x, y) in the previous example), it must be parenthesized(괄호안에)"
   ]
  },
  {
   "cell_type": "code",
   "execution_count": 63,
   "id": "ed1931ea",
   "metadata": {},
   "outputs": [
    {
     "data": {
      "text/plain": [
       "[-8, -4, 0, 4, 8]"
      ]
     },
     "execution_count": 63,
     "metadata": {},
     "output_type": "execute_result"
    }
   ],
   "source": [
    "vec = [-4, -2, 0, 2, 4]\n",
    "# create a new list with the values doubled\n",
    "[x*2 for x in vec]"
   ]
  },
  {
   "cell_type": "code",
   "execution_count": 64,
   "id": "de85a962",
   "metadata": {},
   "outputs": [
    {
     "data": {
      "text/plain": [
       "[0, 2, 4]"
      ]
     },
     "execution_count": 64,
     "metadata": {},
     "output_type": "execute_result"
    }
   ],
   "source": [
    "# filter the list to exclude negative numbers\n",
    "[x for x in vec if x >= 0]"
   ]
  },
  {
   "cell_type": "code",
   "execution_count": 66,
   "id": "392f5686",
   "metadata": {},
   "outputs": [
    {
     "data": {
      "text/plain": [
       "[4, 2, 0, 2, 4]"
      ]
     },
     "execution_count": 66,
     "metadata": {},
     "output_type": "execute_result"
    }
   ],
   "source": [
    "# apply a function to all the elements\n",
    "[abs(x) for x in vec]"
   ]
  },
  {
   "cell_type": "code",
   "execution_count": 68,
   "id": "24998323",
   "metadata": {},
   "outputs": [
    {
     "data": {
      "text/plain": [
       "['banana', 'loganberry', 'passion fruit']"
      ]
     },
     "execution_count": 68,
     "metadata": {},
     "output_type": "execute_result"
    }
   ],
   "source": [
    "# call a method on each element\n",
    "freshfruit = ['  banana', '  loganberry ', 'passion fruit  ']\n",
    "[weapon.strip() for weapon in freshfruit] # Remove spaces at the beginning and at the end of the string"
   ]
  },
  {
   "cell_type": "code",
   "execution_count": 7,
   "id": "b569f37f",
   "metadata": {},
   "outputs": [
    {
     "data": {
      "text/plain": [
       "[(0, 0), (1, 1), (2, 4), (3, 9), (4, 16), (5, 25)]"
      ]
     },
     "execution_count": 7,
     "metadata": {},
     "output_type": "execute_result"
    }
   ],
   "source": [
    "# create a list of 2-tuples like (number, square)\n",
    "[(x, x**2) for x in range(6)]"
   ]
  },
  {
   "cell_type": "code",
   "execution_count": 8,
   "id": "a91710e6",
   "metadata": {},
   "outputs": [
    {
     "ename": "SyntaxError",
     "evalue": "invalid syntax (3265058268.py, line 2)",
     "output_type": "error",
     "traceback": [
      "\u001b[1;36m  Input \u001b[1;32mIn [8]\u001b[1;36m\u001b[0m\n\u001b[1;33m    [x, x**2 for x in range(6)]\u001b[0m\n\u001b[1;37m             ^\u001b[0m\n\u001b[1;31mSyntaxError\u001b[0m\u001b[1;31m:\u001b[0m invalid syntax\n"
     ]
    }
   ],
   "source": [
    "# the tuple must be parenthesized, otherwise an error is raised\n",
    "[x, x**2 for x in range(6)]"
   ]
  },
  {
   "cell_type": "code",
   "execution_count": 9,
   "id": "9ac80e86",
   "metadata": {},
   "outputs": [
    {
     "data": {
      "text/plain": [
       "[1, 2, 3, 4, 5, 6, 7, 8, 9]"
      ]
     },
     "execution_count": 9,
     "metadata": {},
     "output_type": "execute_result"
    }
   ],
   "source": [
    "# flatten a list using a listcomp with two 'for'\n",
    "vec = [[1,2,3], [4,5,6], [7,8,9]]\n",
    "[num for elem in vec for num in elem]"
   ]
  },
  {
   "cell_type": "code",
   "execution_count": 73,
   "id": "149c1a8d",
   "metadata": {},
   "outputs": [
    {
     "data": {
      "text/plain": [
       "['3.1', '3.14', '3.142', '3.1416', '3.14159']"
      ]
     },
     "execution_count": 73,
     "metadata": {},
     "output_type": "execute_result"
    }
   ],
   "source": [
    "from math import pi\n",
    "[str(round(pi, i)) for i in range(1, 6)] # round함수 소숫점"
   ]
  },
  {
   "cell_type": "markdown",
   "id": "57cdbd87",
   "metadata": {},
   "source": [
    "## Nested List Comprehensions"
   ]
  },
  {
   "cell_type": "code",
   "execution_count": 75,
   "id": "20090410",
   "metadata": {},
   "outputs": [
    {
     "data": {
      "text/plain": [
       "[[1, 2, 3, 4], [5, 6, 7, 8], [9, 10, 11, 12]]"
      ]
     },
     "execution_count": 75,
     "metadata": {},
     "output_type": "execute_result"
    }
   ],
   "source": [
    "matrix = [\n",
    "    [1, 2, 3, 4],\n",
    "    [5, 6, 7, 8],\n",
    "    [9, 10, 11, 12],\n",
    "]\n",
    "matrix"
   ]
  },
  {
   "cell_type": "code",
   "execution_count": 76,
   "id": "060d046b",
   "metadata": {},
   "outputs": [
    {
     "data": {
      "text/plain": [
       "[[1, 5, 9], [2, 6, 10], [3, 7, 11], [4, 8, 12]]"
      ]
     },
     "execution_count": 76,
     "metadata": {},
     "output_type": "execute_result"
    }
   ],
   "source": [
    "[[row[i] for row in matrix] for i in range(4)]"
   ]
  },
  {
   "cell_type": "code",
   "execution_count": 77,
   "id": "3f1ec4b8",
   "metadata": {},
   "outputs": [
    {
     "data": {
      "text/plain": [
       "[[1, 5, 9], [2, 6, 10], [3, 7, 11], [4, 8, 12]]"
      ]
     },
     "execution_count": 77,
     "metadata": {},
     "output_type": "execute_result"
    }
   ],
   "source": [
    "transposed = []\n",
    "for i in range(4):\n",
    "    transposed.append([row[i] for row in matrix])\n",
    "transposed"
   ]
  },
  {
   "cell_type": "code",
   "execution_count": 78,
   "id": "c4425624",
   "metadata": {},
   "outputs": [
    {
     "data": {
      "text/plain": [
       "[[1, 5, 9], [2, 6, 10], [3, 7, 11], [4, 8, 12]]"
      ]
     },
     "execution_count": 78,
     "metadata": {},
     "output_type": "execute_result"
    }
   ],
   "source": [
    "transposed = []\n",
    "for i in range(4):\n",
    "    # the following 3 lines implement the nested listcomp\n",
    "    transposed_row = []\n",
    "    for row in matrix:\n",
    "        transposed_row.append(row[i])\n",
    "    transposed.append(transposed_row)\n",
    "transposed"
   ]
  },
  {
   "cell_type": "code",
   "execution_count": 79,
   "id": "485e5d8c",
   "metadata": {},
   "outputs": [
    {
     "data": {
      "text/plain": [
       "[(1, 5, 9), (2, 6, 10), (3, 7, 11), (4, 8, 12)]"
      ]
     },
     "execution_count": 79,
     "metadata": {},
     "output_type": "execute_result"
    }
   ],
   "source": [
    "list(zip(*matrix))"
   ]
  },
  {
   "cell_type": "markdown",
   "id": "2909e9b6",
   "metadata": {},
   "source": [
    "### zip()활용예제"
   ]
  },
  {
   "cell_type": "code",
   "execution_count": 13,
   "id": "9b9ad753",
   "metadata": {},
   "outputs": [
    {
     "data": {
      "text/plain": [
       "[(1, 'apple', 'red'), (2, 'banana', 'yellow'), (3, 'orange', 'orange')]"
      ]
     },
     "execution_count": 13,
     "metadata": {},
     "output_type": "execute_result"
    }
   ],
   "source": [
    "# 3개의 리스트\n",
    "num = [1, 2, 3]\n",
    "fruit = ['apple', 'banana', 'orange']\n",
    "color = ['red', 'yellow', 'orange']\n",
    "# zip함수를 이용한 출력값\n",
    "# [(1, 'apple', 'red'), (2, 'banana', 'yellow'), (3, 'orange', 'orange')]\n",
    "list(zip(num, fruit, color))"
   ]
  },
  {
   "cell_type": "markdown",
   "id": "de0b1e0b",
   "metadata": {},
   "source": [
    "# The del statement"
   ]
  },
  {
   "cell_type": "markdown",
   "id": "4dda9582",
   "metadata": {},
   "source": [
    "### There is a way to remove an item from a list given its index instead of its value: the del statement. This differs from the pop() method which returns a value"
   ]
  },
  {
   "cell_type": "code",
   "execution_count": 84,
   "id": "3f203daf",
   "metadata": {},
   "outputs": [
    {
     "data": {
      "text/plain": [
       "[1, 66.25, 333, 333, 1234.5]"
      ]
     },
     "execution_count": 84,
     "metadata": {},
     "output_type": "execute_result"
    }
   ],
   "source": [
    "a = [-1, 1, 66.25, 333, 333, 1234.5]\n",
    "del a[0]\n",
    "a"
   ]
  },
  {
   "cell_type": "code",
   "execution_count": 85,
   "id": "3f253dc7",
   "metadata": {},
   "outputs": [
    {
     "data": {
      "text/plain": [
       "[1, 66.25, 1234.5]"
      ]
     },
     "execution_count": 85,
     "metadata": {},
     "output_type": "execute_result"
    }
   ],
   "source": [
    "del a[2:4]\n",
    "a"
   ]
  },
  {
   "cell_type": "code",
   "execution_count": 86,
   "id": "83f9547c",
   "metadata": {},
   "outputs": [
    {
     "data": {
      "text/plain": [
       "[]"
      ]
     },
     "execution_count": 86,
     "metadata": {},
     "output_type": "execute_result"
    }
   ],
   "source": [
    "del a[:]\n",
    "a"
   ]
  },
  {
   "cell_type": "code",
   "execution_count": 88,
   "id": "b36fbaf1",
   "metadata": {},
   "outputs": [
    {
     "ename": "NameError",
     "evalue": "name 'a' is not defined",
     "output_type": "error",
     "traceback": [
      "\u001b[1;31m---------------------------------------------------------------------------\u001b[0m",
      "\u001b[1;31mNameError\u001b[0m                                 Traceback (most recent call last)",
      "\u001b[1;32m<ipython-input-88-88f0dc819981>\u001b[0m in \u001b[0;36m<module>\u001b[1;34m\u001b[0m\n\u001b[1;32m----> 1\u001b[1;33m \u001b[1;32mdel\u001b[0m \u001b[0ma\u001b[0m\u001b[1;33m\u001b[0m\u001b[1;33m\u001b[0m\u001b[0m\n\u001b[0m\u001b[0;32m      2\u001b[0m \u001b[0ma\u001b[0m\u001b[1;33m\u001b[0m\u001b[1;33m\u001b[0m\u001b[0m\n",
      "\u001b[1;31mNameError\u001b[0m: name 'a' is not defined"
     ]
    }
   ],
   "source": [
    "del a\n",
    "a"
   ]
  },
  {
   "cell_type": "markdown",
   "id": "5da14ba7",
   "metadata": {},
   "source": [
    "# Tuples and Sequences"
   ]
  },
  {
   "cell_type": "markdown",
   "id": "e6b335c5",
   "metadata": {},
   "source": [
    "### We saw that lists and strings have many common properties, such as indexing and slicing operations. They are two examples of sequence data types (see Sequence Types — list, tuple, range)"
   ]
  },
  {
   "cell_type": "code",
   "execution_count": 90,
   "id": "d9a7f0ad",
   "metadata": {},
   "outputs": [
    {
     "data": {
      "text/plain": [
       "(12345, 54321, 'hello!')"
      ]
     },
     "execution_count": 90,
     "metadata": {},
     "output_type": "execute_result"
    }
   ],
   "source": [
    "t = 12345, 54321, 'hello!' # A tuple consists of a number of values separated by commas\n",
    "t"
   ]
  },
  {
   "cell_type": "code",
   "execution_count": 91,
   "id": "7add0db9",
   "metadata": {},
   "outputs": [
    {
     "data": {
      "text/plain": [
       "12345"
      ]
     },
     "execution_count": 91,
     "metadata": {},
     "output_type": "execute_result"
    }
   ],
   "source": [
    "t[0]"
   ]
  },
  {
   "cell_type": "code",
   "execution_count": 92,
   "id": "52c9908e",
   "metadata": {},
   "outputs": [
    {
     "data": {
      "text/plain": [
       "(12345, 54321, 'hello!')"
      ]
     },
     "execution_count": 92,
     "metadata": {},
     "output_type": "execute_result"
    }
   ],
   "source": [
    "t"
   ]
  },
  {
   "cell_type": "code",
   "execution_count": 93,
   "id": "5ed6347b",
   "metadata": {},
   "outputs": [
    {
     "data": {
      "text/plain": [
       "((12345, 54321, 'hello!'), (1, 2, 3, 4, 5))"
      ]
     },
     "execution_count": 93,
     "metadata": {},
     "output_type": "execute_result"
    }
   ],
   "source": [
    "# Tuples may be nested:\n",
    "u = t, (1, 2, 3, 4, 5)\n",
    "u"
   ]
  },
  {
   "cell_type": "code",
   "execution_count": 94,
   "id": "0fdb9a68",
   "metadata": {},
   "outputs": [
    {
     "ename": "TypeError",
     "evalue": "'tuple' object does not support item assignment",
     "output_type": "error",
     "traceback": [
      "\u001b[1;31m---------------------------------------------------------------------------\u001b[0m",
      "\u001b[1;31mTypeError\u001b[0m                                 Traceback (most recent call last)",
      "\u001b[1;32m<ipython-input-94-9e19cce22619>\u001b[0m in \u001b[0;36m<module>\u001b[1;34m\u001b[0m\n\u001b[0;32m      1\u001b[0m \u001b[1;31m# Tuples are immutable:\u001b[0m\u001b[1;33m\u001b[0m\u001b[1;33m\u001b[0m\u001b[0m\n\u001b[1;32m----> 2\u001b[1;33m \u001b[0mt\u001b[0m\u001b[1;33m[\u001b[0m\u001b[1;36m0\u001b[0m\u001b[1;33m]\u001b[0m \u001b[1;33m=\u001b[0m \u001b[1;36m88888\u001b[0m\u001b[1;33m\u001b[0m\u001b[1;33m\u001b[0m\u001b[0m\n\u001b[0m",
      "\u001b[1;31mTypeError\u001b[0m: 'tuple' object does not support item assignment"
     ]
    }
   ],
   "source": [
    "# Tuples are immutable:\n",
    "t[0] = 88888"
   ]
  },
  {
   "cell_type": "code",
   "execution_count": 95,
   "id": "566ce808",
   "metadata": {},
   "outputs": [
    {
     "data": {
      "text/plain": [
       "([1, 2, 3], [3, 2, 1])"
      ]
     },
     "execution_count": 95,
     "metadata": {},
     "output_type": "execute_result"
    }
   ],
   "source": [
    "# but they can contain mutable objects:\n",
    "v = ([1, 2, 3], [3, 2, 1])\n",
    "v"
   ]
  },
  {
   "cell_type": "markdown",
   "id": "2fe55391",
   "metadata": {},
   "source": [
    "### Tuples are immutable, Lists are mutable"
   ]
  },
  {
   "cell_type": "code",
   "execution_count": 96,
   "id": "d3d10d69",
   "metadata": {},
   "outputs": [
    {
     "data": {
      "text/plain": [
       "0"
      ]
     },
     "execution_count": 96,
     "metadata": {},
     "output_type": "execute_result"
    }
   ],
   "source": [
    "empty = ()\n",
    "singleton = 'hello',    # <-- note trailing comma(후행 쉼표)\n",
    "len(empty)"
   ]
  },
  {
   "cell_type": "code",
   "execution_count": 97,
   "id": "238dd54e",
   "metadata": {},
   "outputs": [
    {
     "data": {
      "text/plain": [
       "1"
      ]
     },
     "execution_count": 97,
     "metadata": {},
     "output_type": "execute_result"
    }
   ],
   "source": [
    "len(singleton)"
   ]
  },
  {
   "cell_type": "code",
   "execution_count": 98,
   "id": "41bef923",
   "metadata": {},
   "outputs": [
    {
     "data": {
      "text/plain": [
       "('hello',)"
      ]
     },
     "execution_count": 98,
     "metadata": {},
     "output_type": "execute_result"
    }
   ],
   "source": [
    "singleton"
   ]
  },
  {
   "cell_type": "markdown",
   "id": "20977018",
   "metadata": {},
   "source": [
    "### The statement t = 12345, 54321, 'hello!' is an example of tuple packing: the values 12345, 54321 and 'hello!' are packed together in a tuple. The reverse operation is also possible"
   ]
  },
  {
   "cell_type": "code",
   "execution_count": 100,
   "id": "8ea61d85",
   "metadata": {},
   "outputs": [
    {
     "data": {
      "text/plain": [
       "(12345, 54321, 'hello!')"
      ]
     },
     "execution_count": 100,
     "metadata": {},
     "output_type": "execute_result"
    }
   ],
   "source": [
    "x, y, z = t\n",
    "t"
   ]
  },
  {
   "cell_type": "code",
   "execution_count": 101,
   "id": "5e2cfed0",
   "metadata": {},
   "outputs": [
    {
     "data": {
      "text/plain": [
       "12345"
      ]
     },
     "execution_count": 101,
     "metadata": {},
     "output_type": "execute_result"
    }
   ],
   "source": [
    "x"
   ]
  },
  {
   "cell_type": "code",
   "execution_count": 102,
   "id": "11d6c39c",
   "metadata": {},
   "outputs": [
    {
     "data": {
      "text/plain": [
       "54321"
      ]
     },
     "execution_count": 102,
     "metadata": {},
     "output_type": "execute_result"
    }
   ],
   "source": [
    "y"
   ]
  },
  {
   "cell_type": "code",
   "execution_count": 103,
   "id": "a695d2dc",
   "metadata": {},
   "outputs": [
    {
     "data": {
      "text/plain": [
       "'hello!'"
      ]
     },
     "execution_count": 103,
     "metadata": {},
     "output_type": "execute_result"
    }
   ],
   "source": [
    "z"
   ]
  },
  {
   "cell_type": "markdown",
   "id": "d9c6f5d2",
   "metadata": {},
   "source": [
    "# Sets"
   ]
  },
  {
   "cell_type": "markdown",
   "id": "e00e0c2d",
   "metadata": {},
   "source": [
    "### Curly braces or the set() function can be used to create sets. Note: to create an empty set you have to use set(), not {}; the latter creates an empty dictionary, a data structure that we discuss in the next section"
   ]
  },
  {
   "cell_type": "code",
   "execution_count": 105,
   "id": "0d99167d",
   "metadata": {
    "scrolled": true
   },
   "outputs": [
    {
     "name": "stdout",
     "output_type": "stream",
     "text": [
      "{'pear', 'banana', 'apple', 'orange'}\n"
     ]
    }
   ],
   "source": [
    "basket = {'apple', 'orange', 'apple', 'pear', 'orange', 'banana'}\n",
    "print(basket)                      # show that duplicates have been removed"
   ]
  },
  {
   "cell_type": "code",
   "execution_count": 106,
   "id": "e9546010",
   "metadata": {},
   "outputs": [
    {
     "data": {
      "text/plain": [
       "True"
      ]
     },
     "execution_count": 106,
     "metadata": {},
     "output_type": "execute_result"
    }
   ],
   "source": [
    "'orange' in basket                 # fast membership testing"
   ]
  },
  {
   "cell_type": "code",
   "execution_count": 107,
   "id": "de2ac389",
   "metadata": {},
   "outputs": [
    {
     "data": {
      "text/plain": [
       "False"
      ]
     },
     "execution_count": 107,
     "metadata": {},
     "output_type": "execute_result"
    }
   ],
   "source": [
    "'crabgrass' in basket"
   ]
  },
  {
   "cell_type": "code",
   "execution_count": 15,
   "id": "2b1f234f",
   "metadata": {},
   "outputs": [
    {
     "data": {
      "text/plain": [
       "{'a', 'b', 'c', 'd', 'r'}"
      ]
     },
     "execution_count": 15,
     "metadata": {},
     "output_type": "execute_result"
    }
   ],
   "source": [
    " # Demonstrate set operations on unique letters from two words\n",
    "a = set('abracadabra')\n",
    "b = set('alacazam')\n",
    "a                  # unique letters in a"
   ]
  },
  {
   "cell_type": "code",
   "execution_count": 16,
   "id": "5a8773f8",
   "metadata": {},
   "outputs": [
    {
     "data": {
      "text/plain": [
       "{'a', 'c', 'l', 'm', 'z'}"
      ]
     },
     "execution_count": 16,
     "metadata": {},
     "output_type": "execute_result"
    }
   ],
   "source": [
    "b"
   ]
  },
  {
   "cell_type": "code",
   "execution_count": 110,
   "id": "5c9629f6",
   "metadata": {},
   "outputs": [
    {
     "data": {
      "text/plain": [
       "{'b', 'd', 'r'}"
      ]
     },
     "execution_count": 110,
     "metadata": {},
     "output_type": "execute_result"
    }
   ],
   "source": [
    "a - b                              # letters in a but not in b"
   ]
  },
  {
   "cell_type": "code",
   "execution_count": 113,
   "id": "f5b09468",
   "metadata": {},
   "outputs": [
    {
     "data": {
      "text/plain": [
       "{'a', 'b', 'c', 'd', 'l', 'm', 'r', 'z'}"
      ]
     },
     "execution_count": 113,
     "metadata": {},
     "output_type": "execute_result"
    }
   ],
   "source": [
    "a | b                              # letters in a or b or both,  |=or"
   ]
  },
  {
   "cell_type": "code",
   "execution_count": 114,
   "id": "63d9ad31",
   "metadata": {},
   "outputs": [
    {
     "data": {
      "text/plain": [
       "{'a', 'c'}"
      ]
     },
     "execution_count": 114,
     "metadata": {},
     "output_type": "execute_result"
    }
   ],
   "source": [
    "a & b                              # letters in both a and b"
   ]
  },
  {
   "cell_type": "code",
   "execution_count": 115,
   "id": "d6aecd89",
   "metadata": {},
   "outputs": [
    {
     "data": {
      "text/plain": [
       "{'b', 'd', 'l', 'm', 'r', 'z'}"
      ]
     },
     "execution_count": 115,
     "metadata": {},
     "output_type": "execute_result"
    }
   ],
   "source": [
    "a ^ b                              # letters in a or b but not both"
   ]
  },
  {
   "cell_type": "markdown",
   "id": "6449dda1",
   "metadata": {},
   "source": [
    "## 비트연산자"
   ]
  },
  {
   "cell_type": "markdown",
   "id": "16493d41",
   "metadata": {},
   "source": [
    "### &   \n",
    "### 비트 AND\n",
    "### a & b\n",
    "### a와 b의 비트를 AND 연산\n",
    "\n",
    "### |\n",
    "### 비트 OR\n",
    "### a | b\n",
    "### a와 b의 비트를 OR 연산\n",
    "\n",
    "### ^\n",
    "### 비트 XOR\n",
    "### a ^ b\n",
    "### a와 b의 비트를 XOR 연산(배타적 OR, Exclusive OR)\n",
    "\n",
    "### ~\n",
    "### 비트 NOT\n",
    "### ~x\n",
    "### x의 비트를 뒤집음\n",
    "\n",
    "### << \n",
    "### 비트 왼쪽 시프트\n",
    "### a << b\n",
    "### a의 비트를 b번 왼쪽으로 이동시킴\n",
    "\n",
    "### >> \n",
    "### 비트 오른쪽 시프트\n",
    "### a >> b\n",
    "### a의 비트를 b번 오른쪽으로 이동시킴\n",
    "\n",
    "### &=\n",
    "### 비트 AND 연산 후 할당\n",
    "### a &= b\n",
    "### a와 b의 비트를 AND 연산한 후 결과를 a에 할당\n",
    "\n",
    "### |=\n",
    "### 비트 OR 연산 후 할당\n",
    "### a |= b\n",
    "### a와 b의 비트를 OR 연산한 후 결과를 a에 할당\n",
    "\n",
    "### ^=\n",
    "### 비트 XOR 연산 후 할당\n",
    "### a ^= b\n",
    "### a와 b의 비트를 XOR 연산한 후 결과를 a에 할당\n",
    "\n",
    "### <<=\n",
    "### 비트 왼쪽 시프트 후 할당\n",
    "### a <<= b\n",
    "### a의 비트를 b번 왼쪽으로 이동시킨 후 결과를 a에 할당\n",
    "\n",
    "### >>=\n",
    "### 비트 오른쪽 시프트 후 할당\n",
    "\n",
    "### a >>= b\n",
    "### a의 비트를 b번 오른쪽으로 이동시킨 후 결과를 a에 할당"
   ]
  },
  {
   "cell_type": "markdown",
   "id": "d68b5542",
   "metadata": {},
   "source": [
    "### is: ==, and: &, or: |, xor: ^, not: ~"
   ]
  },
  {
   "cell_type": "code",
   "execution_count": 117,
   "id": "30a4eb8c",
   "metadata": {},
   "outputs": [
    {
     "data": {
      "text/plain": [
       "{'d', 'r'}"
      ]
     },
     "execution_count": 117,
     "metadata": {},
     "output_type": "execute_result"
    }
   ],
   "source": [
    "a = {x for x in 'abracadabra' if x not in 'abc'}\n",
    "a"
   ]
  },
  {
   "cell_type": "markdown",
   "id": "60ec8e7a",
   "metadata": {},
   "source": [
    "## Dictionaries"
   ]
  },
  {
   "cell_type": "markdown",
   "id": "30871f91",
   "metadata": {},
   "source": [
    "### which are indexed by a range of numbers, dictionaries are indexed by keys, which can be any immutable type; strings and numbers can always be keys. Tuples can be used as keys if they contain only strings, numbers, or tuples; if a tuple contains any mutable object either directly or indirectly, it cannot be used as a key. You can’t use lists as keys, since lists can be modified in place using index assignments, slice assignments, or methods like append() and extend()."
   ]
  },
  {
   "cell_type": "markdown",
   "id": "77a3af6c",
   "metadata": {},
   "source": [
    "### It is best to think of a dictionary as a set of key: value pairs, with the requirement that the keys are unique (within one dictionary). A pair of braces creates an empty dictionary: {}. Placing a comma-separated list of key:value pairs within the braces adds initial key:value pairs to the dictionary; this is also the way dictionaries are written on output"
   ]
  },
  {
   "cell_type": "markdown",
   "id": "8e7aaa37",
   "metadata": {},
   "source": [
    "### The main operations on a dictionary are storing a value with some key and extracting the value given the key. It is also possible to delete a key:value pair with del. If you store using a key that is already in use, the old value associated with that key is forgotten. It is an error to extract a value using a non-existent key.\n",
    "\n",
    "### Performing list(d) on a dictionary returns a list of all the keys used in the dictionary, in insertion order (if you want it sorted, just use sorted(d) instead). To check whether a single key is in the dictionary, use the in keyword."
   ]
  },
  {
   "cell_type": "code",
   "execution_count": 118,
   "id": "0f005985",
   "metadata": {},
   "outputs": [
    {
     "data": {
      "text/plain": [
       "{'jack': 4098, 'sape': 4139, 'guido': 4127}"
      ]
     },
     "execution_count": 118,
     "metadata": {},
     "output_type": "execute_result"
    }
   ],
   "source": [
    "tel = {'jack': 4098, 'sape': 4139}\n",
    "tel['guido'] = 4127\n",
    "tel"
   ]
  },
  {
   "cell_type": "code",
   "execution_count": 119,
   "id": "540e58bc",
   "metadata": {},
   "outputs": [
    {
     "data": {
      "text/plain": [
       "4098"
      ]
     },
     "execution_count": 119,
     "metadata": {},
     "output_type": "execute_result"
    }
   ],
   "source": [
    "tel['jack']"
   ]
  },
  {
   "cell_type": "code",
   "execution_count": 120,
   "id": "0611761f",
   "metadata": {},
   "outputs": [
    {
     "data": {
      "text/plain": [
       "{'jack': 4098, 'guido': 4127, 'irv': 4127}"
      ]
     },
     "execution_count": 120,
     "metadata": {},
     "output_type": "execute_result"
    }
   ],
   "source": [
    "del tel['sape']\n",
    "tel['irv'] = 4127\n",
    "tel"
   ]
  },
  {
   "cell_type": "code",
   "execution_count": 121,
   "id": "38228ec1",
   "metadata": {},
   "outputs": [
    {
     "data": {
      "text/plain": [
       "['jack', 'guido', 'irv']"
      ]
     },
     "execution_count": 121,
     "metadata": {},
     "output_type": "execute_result"
    }
   ],
   "source": [
    "list(tel)"
   ]
  },
  {
   "cell_type": "code",
   "execution_count": 122,
   "id": "11fad3d8",
   "metadata": {},
   "outputs": [
    {
     "data": {
      "text/plain": [
       "['guido', 'irv', 'jack']"
      ]
     },
     "execution_count": 122,
     "metadata": {},
     "output_type": "execute_result"
    }
   ],
   "source": [
    "sorted(tel)"
   ]
  },
  {
   "cell_type": "code",
   "execution_count": 123,
   "id": "eeb0bb6d",
   "metadata": {},
   "outputs": [
    {
     "data": {
      "text/plain": [
       "True"
      ]
     },
     "execution_count": 123,
     "metadata": {},
     "output_type": "execute_result"
    }
   ],
   "source": [
    "'guido' in tel"
   ]
  },
  {
   "cell_type": "code",
   "execution_count": 124,
   "id": "3a505efe",
   "metadata": {},
   "outputs": [
    {
     "data": {
      "text/plain": [
       "False"
      ]
     },
     "execution_count": 124,
     "metadata": {},
     "output_type": "execute_result"
    }
   ],
   "source": [
    "'jack' not in tel"
   ]
  },
  {
   "cell_type": "markdown",
   "id": "7a34f63b",
   "metadata": {},
   "source": [
    "### The dict() constructor builds dictionaries directly from sequences of key-value pairs"
   ]
  },
  {
   "cell_type": "code",
   "execution_count": 125,
   "id": "06823d7f",
   "metadata": {},
   "outputs": [
    {
     "data": {
      "text/plain": [
       "{'sape': 4139, 'guido': 4127, 'jack': 4098}"
      ]
     },
     "execution_count": 125,
     "metadata": {},
     "output_type": "execute_result"
    }
   ],
   "source": [
    "dict([('sape', 4139), ('guido', 4127), ('jack', 4098)])"
   ]
  },
  {
   "cell_type": "code",
   "execution_count": 126,
   "id": "8cc56cd2",
   "metadata": {},
   "outputs": [
    {
     "data": {
      "text/plain": [
       "{2: 4, 4: 16, 6: 36}"
      ]
     },
     "execution_count": 126,
     "metadata": {},
     "output_type": "execute_result"
    }
   ],
   "source": [
    "{x: x**2 for x in (2, 4, 6)}"
   ]
  },
  {
   "cell_type": "code",
   "execution_count": 127,
   "id": "35bb7c9b",
   "metadata": {},
   "outputs": [
    {
     "data": {
      "text/plain": [
       "{'sape': 4139, 'guido': 4127, 'jack': 4098}"
      ]
     },
     "execution_count": 127,
     "metadata": {},
     "output_type": "execute_result"
    }
   ],
   "source": [
    "dict(sape=4139, guido=4127, jack=4098)"
   ]
  },
  {
   "cell_type": "markdown",
   "id": "1b60ba28",
   "metadata": {},
   "source": [
    "# Looping Techniques"
   ]
  },
  {
   "cell_type": "code",
   "execution_count": 131,
   "id": "dbf11ddc",
   "metadata": {},
   "outputs": [
    {
     "name": "stdout",
     "output_type": "stream",
     "text": [
      "gallahad the pure\n",
      "robin the brave\n"
     ]
    }
   ],
   "source": [
    "knights = {'gallahad': 'the pure', 'robin': 'the brave'}\n",
    "for k, v in knights.items():\n",
    "    print(k, v)"
   ]
  },
  {
   "cell_type": "code",
   "execution_count": 135,
   "id": "ccc96a77",
   "metadata": {},
   "outputs": [
    {
     "name": "stdout",
     "output_type": "stream",
     "text": [
      "0 tic\n",
      "1 tac\n",
      "2 toe\n"
     ]
    }
   ],
   "source": [
    "for i, v in enumerate(['tic', 'tac', 'toe']): # enumerate()는 반복 가능한 반복 중에 자동 카운터를 사용할 수 있는 파이썬의 내장 함수, \n",
    "                                # enumerate(iterable, start=0) , start - 카운터가 시작되는 번호입니다. 선택사항. 카운터는 0부터 시작\n",
    "        print(i, v)"
   ]
  },
  {
   "cell_type": "code",
   "execution_count": 136,
   "id": "1390c3ad",
   "metadata": {},
   "outputs": [
    {
     "name": "stdout",
     "output_type": "stream",
     "text": [
      "What is your name?  It is lancelot.\n",
      "What is your quest?  It is the holy grail.\n",
      "What is your favorite color?  It is blue.\n"
     ]
    }
   ],
   "source": [
    "questions = ['name', 'quest', 'favorite color']\n",
    "answers = ['lancelot', 'the holy grail', 'blue']\n",
    "for q, a in zip(questions, answers):\n",
    "    print('What is your {0}?  It is {1}.'.format(q, a))"
   ]
  },
  {
   "cell_type": "code",
   "execution_count": 19,
   "id": "21c1005a",
   "metadata": {},
   "outputs": [
    {
     "name": "stdout",
     "output_type": "stream",
     "text": [
      "9\n",
      "7\n",
      "5\n",
      "3\n",
      "1\n"
     ]
    }
   ],
   "source": [
    "for i in reversed(range(1, 10, 2)):\n",
    "    print(i)"
   ]
  },
  {
   "cell_type": "code",
   "execution_count": 138,
   "id": "02cc53b5",
   "metadata": {},
   "outputs": [
    {
     "name": "stdout",
     "output_type": "stream",
     "text": [
      "apple\n",
      "apple\n",
      "banana\n",
      "orange\n",
      "orange\n",
      "pear\n"
     ]
    }
   ],
   "source": [
    "basket = ['apple', 'orange', 'apple', 'pear', 'orange', 'banana']\n",
    "for i in sorted(basket):\n",
    "    print(i)"
   ]
  },
  {
   "cell_type": "code",
   "execution_count": 140,
   "id": "e949648d",
   "metadata": {},
   "outputs": [
    {
     "name": "stdout",
     "output_type": "stream",
     "text": [
      "apple\n",
      "banana\n",
      "orange\n",
      "pear\n"
     ]
    }
   ],
   "source": [
    "basket = ['apple', 'orange', 'apple', 'pear', 'orange', 'banana']\n",
    "for f in sorted(set(basket)):  # Using set() on a sequence eliminates duplicate elements\n",
    "    print(f)"
   ]
  },
  {
   "cell_type": "code",
   "execution_count": 141,
   "id": "38abe769",
   "metadata": {},
   "outputs": [
    {
     "data": {
      "text/plain": [
       "[56.2, 51.7, 55.3, 52.5, 47.8]"
      ]
     },
     "execution_count": 141,
     "metadata": {},
     "output_type": "execute_result"
    }
   ],
   "source": [
    "import math\n",
    "raw_data = [56.2, float('NaN'), 51.7, 55.3, 52.5, float('NaN'), 47.8]\n",
    "filtered_data = []\n",
    "for value in raw_data:\n",
    "    if not math.isnan(value):\n",
    "        filtered_data.append(value)\n",
    "filtered_data"
   ]
  },
  {
   "cell_type": "markdown",
   "id": "4e2d1142",
   "metadata": {},
   "source": [
    "# More on Conditions"
   ]
  },
  {
   "cell_type": "code",
   "execution_count": 142,
   "id": "17cc399a",
   "metadata": {},
   "outputs": [
    {
     "data": {
      "text/plain": [
       "'Trondheim'"
      ]
     },
     "execution_count": 142,
     "metadata": {},
     "output_type": "execute_result"
    }
   ],
   "source": [
    "string1, string2, string3 = '', 'Trondheim', 'Hammer Dance'\n",
    "non_null = string1 or string2 or string3\n",
    "non_null"
   ]
  },
  {
   "cell_type": "code",
   "execution_count": 143,
   "id": "8543ef20",
   "metadata": {},
   "outputs": [
    {
     "data": {
      "text/plain": [
       "'Hammer Dance'"
      ]
     },
     "execution_count": 143,
     "metadata": {},
     "output_type": "execute_result"
    }
   ],
   "source": [
    "string1, string2, string3 = '', 'Hammer Dance', 'Trondheim'\n",
    "non_null = string1 or string2 or string3\n",
    "non_null"
   ]
  },
  {
   "cell_type": "code",
   "execution_count": null,
   "id": "d386c743",
   "metadata": {},
   "outputs": [],
   "source": []
  }
 ],
 "metadata": {
  "kernelspec": {
   "display_name": "Python 3 (ipykernel)",
   "language": "python",
   "name": "python3"
  },
  "language_info": {
   "codemirror_mode": {
    "name": "ipython",
    "version": 3
   },
   "file_extension": ".py",
   "mimetype": "text/x-python",
   "name": "python",
   "nbconvert_exporter": "python",
   "pygments_lexer": "ipython3",
   "version": "3.9.12"
  }
 },
 "nbformat": 4,
 "nbformat_minor": 5
}
