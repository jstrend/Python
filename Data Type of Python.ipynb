{
 "cells": [
  {
   "cell_type": "markdown",
   "id": "4f65e6ae",
   "metadata": {},
   "source": [
    "# 자료형(Data Type)"
   ]
  },
  {
   "cell_type": "markdown",
   "id": "beb26923",
   "metadata": {},
   "source": [
    "## Bool(True, False)"
   ]
  },
  {
   "cell_type": "code",
   "execution_count": 2,
   "id": "8cead53f",
   "metadata": {},
   "outputs": [
    {
     "data": {
      "text/plain": [
       "bool"
      ]
     },
     "execution_count": 2,
     "metadata": {},
     "output_type": "execute_result"
    }
   ],
   "source": [
    "type(True)"
   ]
  },
  {
   "cell_type": "code",
   "execution_count": 3,
   "id": "ec2d197c",
   "metadata": {},
   "outputs": [
    {
     "data": {
      "text/plain": [
       "bool"
      ]
     },
     "execution_count": 3,
     "metadata": {},
     "output_type": "execute_result"
    }
   ],
   "source": [
    "type(False)"
   ]
  },
  {
   "cell_type": "markdown",
   "id": "3e1f60a5",
   "metadata": {},
   "source": [
    "## int(1,2,3 ...), Float(1.1, 1.12, 1.123, ...), complex(1+3j, 2+4j, ...)"
   ]
  },
  {
   "cell_type": "code",
   "execution_count": 4,
   "id": "b45991c5",
   "metadata": {},
   "outputs": [
    {
     "data": {
      "text/plain": [
       "int"
      ]
     },
     "execution_count": 4,
     "metadata": {},
     "output_type": "execute_result"
    }
   ],
   "source": [
    "type(1)"
   ]
  },
  {
   "cell_type": "code",
   "execution_count": 5,
   "id": "bac6e31c",
   "metadata": {},
   "outputs": [
    {
     "data": {
      "text/plain": [
       "float"
      ]
     },
     "execution_count": 5,
     "metadata": {},
     "output_type": "execute_result"
    }
   ],
   "source": [
    "type(1.234)"
   ]
  },
  {
   "cell_type": "code",
   "execution_count": 6,
   "id": "1ef9ddab",
   "metadata": {},
   "outputs": [
    {
     "data": {
      "text/plain": [
       "complex"
      ]
     },
     "execution_count": 6,
     "metadata": {},
     "output_type": "execute_result"
    }
   ],
   "source": [
    "type(1+2j)"
   ]
  },
  {
   "cell_type": "markdown",
   "id": "8923c9a0",
   "metadata": {},
   "source": [
    "## String(a, b, c, ...), list, tuple, dict, fuction"
   ]
  },
  {
   "cell_type": "code",
   "execution_count": 7,
   "id": "6d658ea9",
   "metadata": {},
   "outputs": [
    {
     "data": {
      "text/plain": [
       "str"
      ]
     },
     "execution_count": 7,
     "metadata": {},
     "output_type": "execute_result"
    }
   ],
   "source": [
    "type('a')"
   ]
  },
  {
   "cell_type": "code",
   "execution_count": 8,
   "id": "856a81cf",
   "metadata": {},
   "outputs": [
    {
     "data": {
      "text/plain": [
       "str"
      ]
     },
     "execution_count": 8,
     "metadata": {},
     "output_type": "execute_result"
    }
   ],
   "source": [
    "type(\"a\")"
   ]
  },
  {
   "cell_type": "code",
   "execution_count": 9,
   "id": "df623a11",
   "metadata": {},
   "outputs": [
    {
     "data": {
      "text/plain": [
       "list"
      ]
     },
     "execution_count": 9,
     "metadata": {},
     "output_type": "execute_result"
    }
   ],
   "source": [
    "type([1,2,3])"
   ]
  },
  {
   "cell_type": "code",
   "execution_count": 10,
   "id": "3e5183af",
   "metadata": {},
   "outputs": [
    {
     "data": {
      "text/plain": [
       "list"
      ]
     },
     "execution_count": 10,
     "metadata": {},
     "output_type": "execute_result"
    }
   ],
   "source": [
    "type([[1,2,3], [4,5,6]])"
   ]
  },
  {
   "cell_type": "code",
   "execution_count": 11,
   "id": "847ba266",
   "metadata": {},
   "outputs": [
    {
     "data": {
      "text/plain": [
       "tuple"
      ]
     },
     "execution_count": 11,
     "metadata": {},
     "output_type": "execute_result"
    }
   ],
   "source": [
    "type((1,2,3))"
   ]
  },
  {
   "cell_type": "code",
   "execution_count": 12,
   "id": "e5aba70e",
   "metadata": {},
   "outputs": [
    {
     "data": {
      "text/plain": [
       "dict"
      ]
     },
     "execution_count": 12,
     "metadata": {},
     "output_type": "execute_result"
    }
   ],
   "source": [
    "type({'a': 1, 'b': 2, 'c': 3})"
   ]
  },
  {
   "cell_type": "markdown",
   "id": "323861d1",
   "metadata": {},
   "source": [
    "# 파이썬 타입 변환, 형변환 (float, int, str, chr, bool)"
   ]
  },
  {
   "cell_type": "markdown",
   "id": "1d4ab845",
   "metadata": {},
   "source": [
    "# https://blockdmask.tistory.com/432 참조"
   ]
  },
  {
   "cell_type": "markdown",
   "id": "f64daf4b",
   "metadata": {},
   "source": [
    "# int: 정수형"
   ]
  },
  {
   "cell_type": "code",
   "execution_count": 1,
   "id": "7b89408f",
   "metadata": {},
   "outputs": [
    {
     "name": "stdout",
     "output_type": "stream",
     "text": [
      "1. int(10) = 10, type(a) = <class 'int'>\n"
     ]
    }
   ],
   "source": [
    "# int(정수) : 정수를 정수로 변환 (가능함. 의미없음)\n",
    "a = int(10)\n",
    "print(f'1. int(10) = {a}, type(a) = {type(a)}')"
   ]
  },
  {
   "cell_type": "code",
   "execution_count": 2,
   "id": "d7e719fa",
   "metadata": {},
   "outputs": [
    {
     "name": "stdout",
     "output_type": "stream",
     "text": [
      "2. int(3.141592) = 3, type(b) = <class 'int'>\n"
     ]
    }
   ],
   "source": [
    "# int(실수) : 실수를 정수로 변환\n",
    "b = int(3.141592)\n",
    "print(f'2. int(3.141592) = {b}, type(b) = {type(b)}')"
   ]
  },
  {
   "cell_type": "code",
   "execution_count": 3,
   "id": "11d8ee80",
   "metadata": {},
   "outputs": [
    {
     "name": "stdout",
     "output_type": "stream",
     "text": [
      "3. int(True) = 1, type(c) = <class 'int'>\n"
     ]
    }
   ],
   "source": [
    "# int(불리언) : 불리언을 정수로 변환\n",
    "c = int(True)\n",
    "print(f'3. int(True) = {c}, type(c) = {type(c)}')"
   ]
  },
  {
   "cell_type": "code",
   "execution_count": 4,
   "id": "d11656b5",
   "metadata": {},
   "outputs": [
    {
     "name": "stdout",
     "output_type": "stream",
     "text": [
      "4. int(\"1\") = 1, type(d) = <class 'int'>\n"
     ]
    }
   ],
   "source": [
    "# int(문자) : 문자를 정수로 변환\n",
    "# d = int('a') 오류 변환할 정수가 없음\n",
    "d = int('1')\n",
    "print(f'4. int(\"1\") = {d}, type(d) = {type(d)}')"
   ]
  },
  {
   "cell_type": "code",
   "execution_count": 5,
   "id": "d24f0caa",
   "metadata": {},
   "outputs": [
    {
     "name": "stdout",
     "output_type": "stream",
     "text": [
      "5. int('112') = 112, type(e) = <class 'int'>\n"
     ]
    }
   ],
   "source": [
    "# int(문자열) : 문자열을 정수로 변환\n",
    "# e = int('blockdmask') 오류 변환할 정수가 없음\n",
    "e = int('112')\n",
    "print(f'5. int(\\'112\\') = {e}, type(e) = {type(e)}')"
   ]
  },
  {
   "cell_type": "markdown",
   "id": "b8f5b67b",
   "metadata": {},
   "source": [
    "# float: 실수형"
   ]
  },
  {
   "cell_type": "code",
   "execution_count": 6,
   "id": "9844ad35",
   "metadata": {},
   "outputs": [
    {
     "name": "stdout",
     "output_type": "stream",
     "text": [
      "1. float(10) = 10.0, type(a) = <class 'float'>\n"
     ]
    }
   ],
   "source": [
    "# float(정수) : 정수를 실수로 변환\n",
    "a = float(10)\n",
    "print(f'1. float(10) = {a}, type(a) = {type(a)}')"
   ]
  },
  {
   "cell_type": "code",
   "execution_count": 7,
   "id": "98a815d7",
   "metadata": {},
   "outputs": [
    {
     "name": "stdout",
     "output_type": "stream",
     "text": [
      "2. float(3.141592) = 3.141592, type(b) = <class 'float'>\n"
     ]
    }
   ],
   "source": [
    "# float(실수) : 실수를 실수로 변환 (가능, 의미없음)\n",
    "b = float(3.141592)\n",
    "print(f'2. float(3.141592) = {b}, type(b) = {type(b)}')"
   ]
  },
  {
   "cell_type": "code",
   "execution_count": 8,
   "id": "91c44aff",
   "metadata": {},
   "outputs": [
    {
     "name": "stdout",
     "output_type": "stream",
     "text": [
      "3. float(False) = 0.0, type(c) = <class 'float'>\n"
     ]
    }
   ],
   "source": [
    "# float(불리언) : 불리언을 실수로 변환\n",
    "c = float(False)\n",
    "print(f'3. float(False) = {c}, type(c) = {type(c)}')"
   ]
  },
  {
   "cell_type": "code",
   "execution_count": 9,
   "id": "f0d93a71",
   "metadata": {},
   "outputs": [
    {
     "name": "stdout",
     "output_type": "stream",
     "text": [
      "4. float(\"2\") = 2.0, type(d) = <class 'float'>\n"
     ]
    }
   ],
   "source": [
    "# float(문자) : 문자를 실수로 변환\n",
    "# d = float('a')  # 오류 : 변환할 실수가 없음\n",
    "d = float('2')\n",
    "print(f'4. float(\"2\") = {d}, type(d) = {type(d)}')"
   ]
  },
  {
   "cell_type": "code",
   "execution_count": 10,
   "id": "ae943808",
   "metadata": {},
   "outputs": [
    {
     "name": "stdout",
     "output_type": "stream",
     "text": [
      "5. float('3434') = 3434.0, type(e) = <class 'float'>\n"
     ]
    }
   ],
   "source": [
    "# float(문자열) : 문자열을 정수로 변환\n",
    "# e = float('blockdmask') # 오류 : 변환할 실수가 없음\n",
    "e = float('3434')\n",
    "print(f'5. float(\\'3434\\') = {e}, type(e) = {type(e)}')"
   ]
  },
  {
   "cell_type": "markdown",
   "id": "2413b8a6",
   "metadata": {},
   "source": [
    "# str: 문자열"
   ]
  },
  {
   "cell_type": "code",
   "execution_count": 11,
   "id": "6a3b63c5",
   "metadata": {},
   "outputs": [
    {
     "name": "stdout",
     "output_type": "stream",
     "text": [
      "1. str(10) = 10, type(a) = <class 'str'>\n"
     ]
    }
   ],
   "source": [
    "# str(정수) : 정수를 문자열로 변환\n",
    "a = str(10)\n",
    "print(f'1. str(10) = {a}, type(a) = {type(a)}')"
   ]
  },
  {
   "cell_type": "code",
   "execution_count": 12,
   "id": "fa5902c5",
   "metadata": {},
   "outputs": [
    {
     "name": "stdout",
     "output_type": "stream",
     "text": [
      "2. str(3.141592) = 3.141592, type(b) = <class 'str'>\n"
     ]
    }
   ],
   "source": [
    "# str(실수) : 실수를 문자열로 변환\n",
    "b = str(3.141592)\n",
    "print(f'2. str(3.141592) = {b}, type(b) = {type(b)}')"
   ]
  },
  {
   "cell_type": "code",
   "execution_count": 13,
   "id": "d00cc31c",
   "metadata": {},
   "outputs": [
    {
     "name": "stdout",
     "output_type": "stream",
     "text": [
      "3-1. str(True) = True, type(c1) = <class 'str'>\n"
     ]
    }
   ],
   "source": [
    "# str(불리언) : 불리언을 문자열로 변환\n",
    "c1 = str(True)\n",
    "print(f'3-1. str(True) = {c1}, type(c1) = {type(c1)}')"
   ]
  },
  {
   "cell_type": "code",
   "execution_count": 14,
   "id": "3c41ae20",
   "metadata": {},
   "outputs": [
    {
     "name": "stdout",
     "output_type": "stream",
     "text": [
      "3-2. str(False) = False, type(c2) = <class 'str'>\n"
     ]
    }
   ],
   "source": [
    "c2 = str(False)\n",
    "print(f'3-2. str(False) = {c2}, type(c2) = {type(c2)}')"
   ]
  },
  {
   "cell_type": "code",
   "execution_count": 15,
   "id": "530c35e1",
   "metadata": {},
   "outputs": [
    {
     "name": "stdout",
     "output_type": "stream",
     "text": [
      "4-1. str(\"2\") = 2, type(d1) = <class 'str'>\n"
     ]
    }
   ],
   "source": [
    "# str(문자) : 문자를 문자열로 변환\n",
    "d1 = str('2')\n",
    "print(f'4-1. str(\"2\") = {d1}, type(d1) = {type(d1)}')"
   ]
  },
  {
   "cell_type": "code",
   "execution_count": 16,
   "id": "708e4ca4",
   "metadata": {},
   "outputs": [
    {
     "name": "stdout",
     "output_type": "stream",
     "text": [
      "4-2. str(\"a\") = a, type(d2) = <class 'str'>\n"
     ]
    }
   ],
   "source": [
    "d2 = str('a')\n",
    "print(f'4-2. str(\"a\") = {d2}, type(d2) = {type(d2)}')"
   ]
  },
  {
   "cell_type": "code",
   "execution_count": 17,
   "id": "fec56f8e",
   "metadata": {},
   "outputs": [
    {
     "name": "stdout",
     "output_type": "stream",
     "text": [
      "5. str('3434') = BlockDMask, type(e) = <class 'str'>\n"
     ]
    }
   ],
   "source": [
    "# str(문자열) : 문자열을 문자열로 변환 (가능, 의미없음)\n",
    "e = str('jstrend')\n",
    "print(f'5. str(\\'3434\\') = {e}, type(e) = {type(e)}')"
   ]
  },
  {
   "cell_type": "markdown",
   "id": "abf8c0d5",
   "metadata": {},
   "source": [
    "# chr: 문자"
   ]
  },
  {
   "cell_type": "code",
   "execution_count": 18,
   "id": "13a93c94",
   "metadata": {},
   "outputs": [
    {
     "name": "stdout",
     "output_type": "stream",
     "text": [
      "1. chr(54) = 6, type(a) = <class 'str'>\n"
     ]
    }
   ],
   "source": [
    "# chr(정수) : 정수를 문자로 변환\n",
    "a = chr(54)\n",
    "print(f'1. chr(54) = {a}, type(a) = {type(a)}')"
   ]
  },
  {
   "cell_type": "code",
   "execution_count": 19,
   "id": "c0128044",
   "metadata": {},
   "outputs": [
    {
     "name": "stdout",
     "output_type": "stream",
     "text": [
      "2. chr(55) = 7, type(b) = <class 'str'>\n"
     ]
    }
   ],
   "source": [
    "b = chr(55)\n",
    "print(f'2. chr(55) = {b}, type(b) = {type(b)}')"
   ]
  },
  {
   "cell_type": "code",
   "execution_count": 20,
   "id": "1ac26741",
   "metadata": {},
   "outputs": [
    {
     "name": "stdout",
     "output_type": "stream",
     "text": [
      "chr(64) : @\n",
      "chr(65) : A\n",
      "chr(66) : B\n",
      "chr(67) : C\n",
      "chr(68) : D\n",
      "chr(69) : E\n",
      "chr(70) : F\n"
     ]
    }
   ],
   "source": [
    "i = 64\n",
    "while i <= 70:\n",
    "    print(f'chr({i}) : {chr(i)}')\n",
    "    i = i + 1"
   ]
  },
  {
   "cell_type": "code",
   "execution_count": 21,
   "id": "f0f4e4b2",
   "metadata": {},
   "outputs": [],
   "source": [
    "# chr(실수) : 실수를 문자로 변환 - 불가능\n",
    "# b = chr(3.141592)"
   ]
  },
  {
   "cell_type": "code",
   "execution_count": 22,
   "id": "e3f46462",
   "metadata": {},
   "outputs": [
    {
     "name": "stdout",
     "output_type": "stream",
     "text": [
      "3-1. chr(True) = \u0001, type(c1) = <class 'str'>\n"
     ]
    }
   ],
   "source": [
    "# chr(불리언) : 불리언을 문자로 변환\n",
    "# 이 경우에는 True가 1, False가 0으로 취급되어서 가능\n",
    "c1 = chr(True)\n",
    "print(f'3-1. chr(True) = {c1}, type(c1) = {type(c1)}')"
   ]
  },
  {
   "cell_type": "code",
   "execution_count": 23,
   "id": "fc2a2aec",
   "metadata": {},
   "outputs": [
    {
     "name": "stdout",
     "output_type": "stream",
     "text": [
      "3-2. chr(1) = \u0001, type(c2) = <class 'str'>\n"
     ]
    }
   ],
   "source": [
    "c2 = chr(1)\n",
    "print(f'3-2. chr(1) = {c2}, type(c2) = {type(c2)}')"
   ]
  },
  {
   "cell_type": "code",
   "execution_count": 24,
   "id": "794d8c1f",
   "metadata": {},
   "outputs": [
    {
     "name": "stdout",
     "output_type": "stream",
     "text": [
      "c1 == c2\n"
     ]
    }
   ],
   "source": [
    "if c1 == c2:\n",
    "    print('c1 == c2')"
   ]
  },
  {
   "cell_type": "code",
   "execution_count": 25,
   "id": "8f02cec3",
   "metadata": {},
   "outputs": [
    {
     "name": "stdout",
     "output_type": "stream",
     "text": [
      "3-3. chr(False) = \u0000, type(c3) = <class 'str'>\n",
      "3-4. chr(0) = \u0000, type(c4) = <class 'str'>\n"
     ]
    }
   ],
   "source": [
    "c3 = chr(False)\n",
    "print(f'3-3. chr(False) = {c3}, type(c3) = {type(c3)}')\n",
    "c4 = chr(0)\n",
    "print(f'3-4. chr(0) = {c4}, type(c4) = {type(c4)}')"
   ]
  },
  {
   "cell_type": "code",
   "execution_count": 26,
   "id": "df1dd433",
   "metadata": {},
   "outputs": [
    {
     "name": "stdout",
     "output_type": "stream",
     "text": [
      "c3 == c4\n"
     ]
    }
   ],
   "source": [
    "if c3 == c4:\n",
    "    print('c3 == c4')"
   ]
  },
  {
   "cell_type": "code",
   "execution_count": 27,
   "id": "079576dc",
   "metadata": {},
   "outputs": [],
   "source": [
    "# chr(문자) : 문자 입력 - 불가능\n",
    "# d1 = chr('2')\n",
    "# d2 = chr('a')\n",
    " \n",
    "# chr(문자열) : 문자열 입력 - 불가능\n",
    "# e = chr('jstrend')"
   ]
  },
  {
   "cell_type": "markdown",
   "id": "f4e1495a",
   "metadata": {},
   "source": [
    "# bool"
   ]
  },
  {
   "cell_type": "code",
   "execution_count": 28,
   "id": "ef1cbb1b",
   "metadata": {},
   "outputs": [
    {
     "name": "stdout",
     "output_type": "stream",
     "text": [
      "1-1. bool(54) = True, type(a1) = <class 'bool'>\n"
     ]
    }
   ],
   "source": [
    "# bool(정수) : 정수를 불리언으로 변환\n",
    "a1 = bool(54)\n",
    "print(f'1-1. bool(54) = {a1}, type(a1) = {type(a1)}')"
   ]
  },
  {
   "cell_type": "code",
   "execution_count": 29,
   "id": "7341a929",
   "metadata": {},
   "outputs": [
    {
     "name": "stdout",
     "output_type": "stream",
     "text": [
      "1-2. bool(0) = False, type(a2) = <class 'bool'>\n"
     ]
    }
   ],
   "source": [
    "a2 = bool(0)\n",
    "print(f'1-2. bool(0) = {a2}, type(a2) = {type(a2)}')"
   ]
  },
  {
   "cell_type": "code",
   "execution_count": 30,
   "id": "cd7c8d12",
   "metadata": {},
   "outputs": [
    {
     "name": "stdout",
     "output_type": "stream",
     "text": [
      "2-1. bool(3.141592) = True, type(b1) = <class 'bool'>\n"
     ]
    }
   ],
   "source": [
    "# bool(실수) : 실수를 불리언으로 변환\n",
    "b1 = bool(3.141592)\n",
    "print(f'2-1. bool(3.141592) = {b1}, type(b1) = {type(b1)}')"
   ]
  },
  {
   "cell_type": "code",
   "execution_count": 31,
   "id": "610e1892",
   "metadata": {},
   "outputs": [
    {
     "name": "stdout",
     "output_type": "stream",
     "text": [
      "2-2. bool(0.00) = False, type(b2) = <class 'bool'>\n"
     ]
    }
   ],
   "source": [
    "b2 = bool(0.00)\n",
    "print(f'2-2. bool(0.00) = {b2}, type(b2) = {type(b2)}')"
   ]
  },
  {
   "cell_type": "code",
   "execution_count": 32,
   "id": "04f16aeb",
   "metadata": {},
   "outputs": [
    {
     "name": "stdout",
     "output_type": "stream",
     "text": [
      "3-1. bool(True) = True, type(c1) = <class 'bool'>\n"
     ]
    }
   ],
   "source": [
    "# bool(불리언) : 불리언을 불리언으로 변환\n",
    "c1 = bool(True)\n",
    "print(f'3-1. bool(True) = {c1}, type(c1) = {type(c1)}')"
   ]
  },
  {
   "cell_type": "code",
   "execution_count": 33,
   "id": "2761b635",
   "metadata": {},
   "outputs": [
    {
     "name": "stdout",
     "output_type": "stream",
     "text": [
      "3-3. bool(False) = False, type(c3) = <class 'bool'>\n"
     ]
    }
   ],
   "source": [
    "c2 = bool(False)\n",
    "print(f'3-3. bool(False) = {c2}, type(c3) = {type(c2)}')"
   ]
  },
  {
   "cell_type": "code",
   "execution_count": 34,
   "id": "3e8a5544",
   "metadata": {},
   "outputs": [
    {
     "name": "stdout",
     "output_type": "stream",
     "text": [
      "4-1. bool('BlockDMask') = True, type(e) = <class 'bool'>\n"
     ]
    }
   ],
   "source": [
    "# bool(문자, 문자열) : 문자열을 불리언으로 변환 (비어있는지 아닌지가 중요)\n",
    "e = bool('BlockDMask')\n",
    "print(f'4-1. bool(\\'BlockDMask\\') = {e}, type(e) = {type(e)}')"
   ]
  },
  {
   "cell_type": "code",
   "execution_count": 35,
   "id": "1e2ac7e9",
   "metadata": {},
   "outputs": [
    {
     "name": "stdout",
     "output_type": "stream",
     "text": [
      "4-2. bool('') = False, type(f) = <class 'bool'>\n"
     ]
    }
   ],
   "source": [
    "f = bool('')\n",
    "print(f'4-2. bool(\\'\\') = {f}, type(f) = {type(f)}')"
   ]
  },
  {
   "cell_type": "markdown",
   "id": "897f867d",
   "metadata": {},
   "source": [
    "# Numpy 배열 형변환"
   ]
  },
  {
   "cell_type": "markdown",
   "id": "cd389a5c",
   "metadata": {},
   "source": [
    "# https://engineer-mole.tistory.com/85"
   ]
  },
  {
   "cell_type": "markdown",
   "id": "9e0d487e",
   "metadata": {},
   "source": [
    "# Numpy의 주요 데이터형 dtype"
   ]
  },
  {
   "cell_type": "markdown",
   "id": "85afbb98",
   "metadata": {},
   "source": [
    "### int8(i1): 부호 있는 8비트 정수형, int16(i2): 부호 있는 16비트 정수형, int32(i4): 부호 있는 32비트 정수형, int64(i8): 부호 있는 64비트 정수형\n",
    "### uint8(u1): 부호 없는 8비트 정수형, uint16(u2): 부호 없는 16비트 정수형, uint32(u4): 부호 없는 64비트 정수형, uint64(u8): 부호 없는 64비트 정수형\n",
    "### float16(f2): 실수형, 반 정밀도 부동소수점형(부호 1비트, 지수 5비트, 가수 10비트), float32(f4): 실수형, 단 정밀도 부동소수점형(부호 1비트, 지수 8비트, 가수 23비트),float64(f4): 실수형, 배 정밀도 부동소수점형(부호 1비트, 지수 11비트, 가수 54비트),float128(f16): 실수형, 4배 정밀도 부동소수점형(부호 1비트, 지수 15비트, 가수 112비트)\n",
    "###  complex64(c8): 복소수형(실수부,허수부 각각 float32), complex128(c16): 복소수형(실수부,허수부 각각 float64), complex256(c32): 복소수형(실수부,허수부 각각 float128)\n",
    "### bool(?): 부울형(True or False)\n",
    "### unicode(U): unicode문자열"
   ]
  },
  {
   "cell_type": "code",
   "execution_count": 36,
   "id": "8841ee51",
   "metadata": {},
   "outputs": [
    {
     "name": "stdout",
     "output_type": "stream",
     "text": [
      "int64\n"
     ]
    }
   ],
   "source": [
    "import numpy as np\n",
    "a = np.array([1, 2, 3], dtype=np.int64)\n",
    "print(a.dtype)\n",
    "# int64"
   ]
  },
  {
   "cell_type": "code",
   "execution_count": 37,
   "id": "dbbbe268",
   "metadata": {},
   "outputs": [
    {
     "name": "stdout",
     "output_type": "stream",
     "text": [
      "int64\n"
     ]
    }
   ],
   "source": [
    "a = np.array([1, 2, 3], dtype='int64')\n",
    "print(a.dtype)\n",
    "# int64"
   ]
  },
  {
   "cell_type": "code",
   "execution_count": 38,
   "id": "93764a1c",
   "metadata": {},
   "outputs": [
    {
     "name": "stdout",
     "output_type": "stream",
     "text": [
      "int64\n"
     ]
    }
   ],
   "source": [
    "a = np.array([1, 2, 3], dtype='i8')\n",
    "print(a.dtype)\n",
    "# int64"
   ]
  },
  {
   "cell_type": "markdown",
   "id": "d312cc97",
   "metadata": {},
   "source": [
    "# Python형(dtype)"
   ]
  },
  {
   "cell_type": "markdown",
   "id": "98374bb6",
   "metadata": {},
   "source": [
    "### int(int64), float(float64), str(unicode), 파이선형(unit) => 데이터타입(uni64)"
   ]
  },
  {
   "cell_type": "code",
   "execution_count": 39,
   "id": "46841285",
   "metadata": {},
   "outputs": [
    {
     "name": "stdout",
     "output_type": "stream",
     "text": [
      "True\n"
     ]
    },
    {
     "name": "stderr",
     "output_type": "stream",
     "text": [
      "<ipython-input-39-7e13aed58217>:1: DeprecationWarning: `np.int` is a deprecated alias for the builtin `int`. To silence this warning, use `int` by itself. Doing this will not modify any behavior and is safe. When replacing `np.int`, you may wish to use e.g. `np.int64` or `np.int32` to specify the precision. If you wish to review your current use, check the release note link for additional information.\n",
      "Deprecated in NumPy 1.20; for more details and guidance: https://numpy.org/devdocs/release/1.20.0-notes.html#deprecations\n",
      "  print(int is np.int)\n"
     ]
    }
   ],
   "source": [
    "print(int is np.int)"
   ]
  },
  {
   "cell_type": "code",
   "execution_count": 40,
   "id": "d62bb9aa",
   "metadata": {},
   "outputs": [
    {
     "name": "stdout",
     "output_type": "stream",
     "text": [
      "int32\n"
     ]
    }
   ],
   "source": [
    "a = np.array([1, 2, 3], dtype=int)\n",
    "print(a.dtype)"
   ]
  },
  {
   "cell_type": "code",
   "execution_count": 41,
   "id": "7f75aa17",
   "metadata": {},
   "outputs": [
    {
     "name": "stdout",
     "output_type": "stream",
     "text": [
      "int32\n"
     ]
    }
   ],
   "source": [
    "a = np.array([1, 2, 3], dtype='int')\n",
    "print(a.dtype)"
   ]
  },
  {
   "cell_type": "markdown",
   "id": "8b818077",
   "metadata": {},
   "source": [
    "# 숫자형이 취할 수 있는 범위 (최소값, 최대값)의 확인"
   ]
  },
  {
   "cell_type": "markdown",
   "id": "cfa11b54",
   "metadata": {},
   "source": [
    "## np.iinfo()"
   ]
  },
  {
   "cell_type": "code",
   "execution_count": 42,
   "id": "47f54277",
   "metadata": {},
   "outputs": [
    {
     "name": "stdout",
     "output_type": "stream",
     "text": [
      "<class 'numpy.iinfo'>\n"
     ]
    }
   ],
   "source": [
    "ii64 = np.iinfo(np.int64)\n",
    "print(type(ii64))"
   ]
  },
  {
   "cell_type": "code",
   "execution_count": 43,
   "id": "0ccce8f1",
   "metadata": {},
   "outputs": [
    {
     "name": "stdout",
     "output_type": "stream",
     "text": [
      "Machine parameters for int64\n",
      "---------------------------------------------------------------\n",
      "min = -9223372036854775808\n",
      "max = 9223372036854775807\n",
      "---------------------------------------------------------------\n",
      "\n"
     ]
    }
   ],
   "source": [
    "print(ii64)"
   ]
  },
  {
   "cell_type": "code",
   "execution_count": 44,
   "id": "36b3502a",
   "metadata": {},
   "outputs": [
    {
     "name": "stdout",
     "output_type": "stream",
     "text": [
      "9223372036854775807\n"
     ]
    }
   ],
   "source": [
    "print(ii64.max)"
   ]
  },
  {
   "cell_type": "code",
   "execution_count": 45,
   "id": "c0b1dd01",
   "metadata": {},
   "outputs": [
    {
     "name": "stdout",
     "output_type": "stream",
     "text": [
      "<class 'int'>\n"
     ]
    }
   ],
   "source": [
    "print(type(ii64.max))"
   ]
  },
  {
   "cell_type": "code",
   "execution_count": 46,
   "id": "7df6668b",
   "metadata": {},
   "outputs": [
    {
     "name": "stdout",
     "output_type": "stream",
     "text": [
      "-9223372036854775808\n"
     ]
    }
   ],
   "source": [
    "print(ii64.min)"
   ]
  },
  {
   "cell_type": "code",
   "execution_count": 47,
   "id": "448af673",
   "metadata": {},
   "outputs": [
    {
     "name": "stdout",
     "output_type": "stream",
     "text": [
      "64\n"
     ]
    }
   ],
   "source": [
    "print(ii64.bits)"
   ]
  },
  {
   "cell_type": "code",
   "execution_count": 48,
   "id": "1bee6bcb",
   "metadata": {},
   "outputs": [
    {
     "name": "stdout",
     "output_type": "stream",
     "text": [
      "Machine parameters for int16\n",
      "---------------------------------------------------------------\n",
      "min = -32768\n",
      "max = 32767\n",
      "---------------------------------------------------------------\n",
      "\n"
     ]
    }
   ],
   "source": [
    "print(np.iinfo('int16'))"
   ]
  },
  {
   "cell_type": "code",
   "execution_count": 49,
   "id": "2d1b0036",
   "metadata": {},
   "outputs": [
    {
     "name": "stdout",
     "output_type": "stream",
     "text": [
      "Machine parameters for int32\n",
      "---------------------------------------------------------------\n",
      "min = -2147483648\n",
      "max = 2147483647\n",
      "---------------------------------------------------------------\n",
      "\n"
     ]
    }
   ],
   "source": [
    "print(np.iinfo('i4'))"
   ]
  },
  {
   "cell_type": "code",
   "execution_count": 50,
   "id": "6174703d",
   "metadata": {},
   "outputs": [
    {
     "name": "stdout",
     "output_type": "stream",
     "text": [
      "Machine parameters for int32\n",
      "---------------------------------------------------------------\n",
      "min = -2147483648\n",
      "max = 2147483647\n",
      "---------------------------------------------------------------\n",
      "\n"
     ]
    }
   ],
   "source": [
    "print(np.iinfo(int))"
   ]
  },
  {
   "cell_type": "code",
   "execution_count": 51,
   "id": "6c28d2ab",
   "metadata": {},
   "outputs": [
    {
     "name": "stdout",
     "output_type": "stream",
     "text": [
      "Machine parameters for uint64\n",
      "---------------------------------------------------------------\n",
      "min = 0\n",
      "max = 18446744073709551615\n",
      "---------------------------------------------------------------\n",
      "\n"
     ]
    }
   ],
   "source": [
    "print(np.iinfo('uint64'))"
   ]
  },
  {
   "cell_type": "code",
   "execution_count": 52,
   "id": "2d08da8e",
   "metadata": {},
   "outputs": [
    {
     "name": "stdout",
     "output_type": "stream",
     "text": [
      "<class 'int'>\n"
     ]
    }
   ],
   "source": [
    "i = 100\n",
    "print(type(i))"
   ]
  },
  {
   "cell_type": "code",
   "execution_count": 53,
   "id": "3b600000",
   "metadata": {},
   "outputs": [
    {
     "name": "stdout",
     "output_type": "stream",
     "text": [
      "Machine parameters for int32\n",
      "---------------------------------------------------------------\n",
      "min = -2147483648\n",
      "max = 2147483647\n",
      "---------------------------------------------------------------\n",
      "\n"
     ]
    }
   ],
   "source": [
    "print(np.iinfo(i))"
   ]
  },
  {
   "cell_type": "code",
   "execution_count": 54,
   "id": "86aeb5e3",
   "metadata": {},
   "outputs": [
    {
     "name": "stdout",
     "output_type": "stream",
     "text": [
      "<class 'numpy.uint8'>\n"
     ]
    }
   ],
   "source": [
    "ui = np.uint8(100)\n",
    "print(type(ui))"
   ]
  },
  {
   "cell_type": "code",
   "execution_count": 55,
   "id": "ee9b8840",
   "metadata": {},
   "outputs": [
    {
     "name": "stdout",
     "output_type": "stream",
     "text": [
      "Machine parameters for uint8\n",
      "---------------------------------------------------------------\n",
      "min = 0\n",
      "max = 255\n",
      "---------------------------------------------------------------\n",
      "\n"
     ]
    }
   ],
   "source": [
    "print(np.iinfo(ui))"
   ]
  },
  {
   "cell_type": "code",
   "execution_count": 56,
   "id": "b46dc91f",
   "metadata": {},
   "outputs": [
    {
     "name": "stdout",
     "output_type": "stream",
     "text": [
      "<class 'numpy.ndarray'>\n"
     ]
    }
   ],
   "source": [
    "a = np.array([1, 2, 3], dtype=np.int8)\n",
    "print(type(a))"
   ]
  },
  {
   "cell_type": "code",
   "execution_count": 57,
   "id": "dad4826e",
   "metadata": {},
   "outputs": [
    {
     "name": "stdout",
     "output_type": "stream",
     "text": [
      "Machine parameters for int8\n",
      "---------------------------------------------------------------\n",
      "min = -128\n",
      "max = 127\n",
      "---------------------------------------------------------------\n",
      "\n"
     ]
    }
   ],
   "source": [
    "print(np.iinfo(a.dtype))"
   ]
  },
  {
   "cell_type": "code",
   "execution_count": 58,
   "id": "6757b3f4",
   "metadata": {},
   "outputs": [
    {
     "name": "stdout",
     "output_type": "stream",
     "text": [
      "Machine parameters for int8\n",
      "---------------------------------------------------------------\n",
      "min = -128\n",
      "max = 127\n",
      "---------------------------------------------------------------\n",
      "\n"
     ]
    }
   ],
   "source": [
    "print(np.iinfo(a[0]))"
   ]
  },
  {
   "cell_type": "markdown",
   "id": "0cea000a",
   "metadata": {},
   "source": [
    "## np.finfo()"
   ]
  },
  {
   "cell_type": "code",
   "execution_count": 59,
   "id": "f5ef9b6f",
   "metadata": {},
   "outputs": [
    {
     "name": "stdout",
     "output_type": "stream",
     "text": [
      "<class 'numpy.finfo'>\n"
     ]
    }
   ],
   "source": [
    "fi64 = np.finfo(np.float64)\n",
    "print(type(fi64))"
   ]
  },
  {
   "cell_type": "code",
   "execution_count": 60,
   "id": "aee47c1a",
   "metadata": {},
   "outputs": [
    {
     "name": "stdout",
     "output_type": "stream",
     "text": [
      "Machine parameters for float64\n",
      "---------------------------------------------------------------\n",
      "precision =  15   resolution = 1.0000000000000001e-15\n",
      "machep =    -52   eps =        2.2204460492503131e-16\n",
      "negep =     -53   epsneg =     1.1102230246251565e-16\n",
      "minexp =  -1022   tiny =       2.2250738585072014e-308\n",
      "maxexp =   1024   max =        1.7976931348623157e+308\n",
      "nexp =       11   min =        -max\n",
      "---------------------------------------------------------------\n",
      "\n"
     ]
    }
   ],
   "source": [
    "print(fi64)"
   ]
  },
  {
   "cell_type": "code",
   "execution_count": 61,
   "id": "d32945ce",
   "metadata": {},
   "outputs": [
    {
     "name": "stdout",
     "output_type": "stream",
     "text": [
      "1.7976931348623157e+308\n"
     ]
    }
   ],
   "source": [
    "print(fi64.max)"
   ]
  },
  {
   "cell_type": "code",
   "execution_count": 62,
   "id": "83ef6f18",
   "metadata": {},
   "outputs": [
    {
     "name": "stdout",
     "output_type": "stream",
     "text": [
      "<class 'numpy.float64'>\n"
     ]
    }
   ],
   "source": [
    "print(type(fi64.max))"
   ]
  },
  {
   "cell_type": "code",
   "execution_count": 63,
   "id": "eafa843f",
   "metadata": {},
   "outputs": [
    {
     "name": "stdout",
     "output_type": "stream",
     "text": [
      "-1.7976931348623157e+308\n"
     ]
    }
   ],
   "source": [
    "print(fi64.min)"
   ]
  },
  {
   "cell_type": "code",
   "execution_count": 64,
   "id": "659773bb",
   "metadata": {},
   "outputs": [
    {
     "name": "stdout",
     "output_type": "stream",
     "text": [
      "2.220446049250313e-16\n"
     ]
    }
   ],
   "source": [
    "print(fi64.eps) # exp는 엡실론"
   ]
  },
  {
   "cell_type": "code",
   "execution_count": 65,
   "id": "6af23d0a",
   "metadata": {},
   "outputs": [
    {
     "name": "stdout",
     "output_type": "stream",
     "text": [
      "64\n"
     ]
    }
   ],
   "source": [
    "print(fi64.bits)"
   ]
  },
  {
   "cell_type": "code",
   "execution_count": 66,
   "id": "d6f2a159",
   "metadata": {},
   "outputs": [
    {
     "name": "stdout",
     "output_type": "stream",
     "text": [
      "11\n"
     ]
    }
   ],
   "source": [
    "print(fi64.iexp) # iexp는 지수부"
   ]
  },
  {
   "cell_type": "code",
   "execution_count": 67,
   "id": "dc30c17e",
   "metadata": {},
   "outputs": [
    {
     "name": "stdout",
     "output_type": "stream",
     "text": [
      "52\n"
     ]
    }
   ],
   "source": [
    "print(fi64.nmant) # iexp는 가수부"
   ]
  },
  {
   "cell_type": "markdown",
   "id": "c5e8746f",
   "metadata": {},
   "source": [
    "# 문자열의 문자수에 관련한 주의사항"
   ]
  },
  {
   "cell_type": "code",
   "execution_count": 68,
   "id": "cffc4b8e",
   "metadata": {},
   "outputs": [
    {
     "name": "stdout",
     "output_type": "stream",
     "text": [
      "['1' '2' '3']\n",
      "<U1\n"
     ]
    }
   ],
   "source": [
    "a_str = np.array([1, 2, 3], dtype=str)\n",
    "print(a_str)\n",
    "print(a_str.dtype)"
   ]
  },
  {
   "cell_type": "code",
   "execution_count": 69,
   "id": "3984d42e",
   "metadata": {},
   "outputs": [
    {
     "name": "stdout",
     "output_type": "stream",
     "text": [
      "['a' '2' '3']\n"
     ]
    }
   ],
   "source": [
    "a_str[0] = 'abcde'\n",
    "print(a_str)"
   ]
  },
  {
   "cell_type": "code",
   "execution_count": 70,
   "id": "b464471a",
   "metadata": {},
   "outputs": [
    {
     "name": "stdout",
     "output_type": "stream",
     "text": [
      "<U10\n"
     ]
    }
   ],
   "source": [
    "a_str10 = np.array([1, 2, 3], dtype='U10')\n",
    "print(a_str10.dtype)"
   ]
  },
  {
   "cell_type": "code",
   "execution_count": 71,
   "id": "9a623319",
   "metadata": {},
   "outputs": [
    {
     "name": "stdout",
     "output_type": "stream",
     "text": [
      "['abcde' '2' '3']\n"
     ]
    }
   ],
   "source": [
    "a_str10[0] = 'abcde'\n",
    "print(a_str10)"
   ]
  },
  {
   "cell_type": "markdown",
   "id": "cda91cfb",
   "metadata": {},
   "source": [
    "# object형 : Python오브젝트에 대한 포인터 저장"
   ]
  },
  {
   "cell_type": "markdown",
   "id": "7261b2cf",
   "metadata": {},
   "source": [
    "## object형은 특수한 데이터 형으로, Python 객체에 대한 포인터를 저장"
   ]
  },
  {
   "cell_type": "code",
   "execution_count": 73,
   "id": "b9d76074",
   "metadata": {},
   "outputs": [
    {
     "name": "stdout",
     "output_type": "stream",
     "text": [
      "[1 0.1 'one']\n"
     ]
    }
   ],
   "source": [
    "a_object = np.array([1, 0.1, 'one'], dtype=object)\n",
    "print(a_object)"
   ]
  },
  {
   "cell_type": "code",
   "execution_count": 74,
   "id": "32dc0df2",
   "metadata": {},
   "outputs": [
    {
     "name": "stdout",
     "output_type": "stream",
     "text": [
      "object\n"
     ]
    }
   ],
   "source": [
    "print(a_object.dtype)"
   ]
  },
  {
   "cell_type": "code",
   "execution_count": 75,
   "id": "d91639a9",
   "metadata": {},
   "outputs": [
    {
     "name": "stdout",
     "output_type": "stream",
     "text": [
      "<class 'int'>\n",
      "<class 'float'>\n",
      "<class 'str'>\n"
     ]
    }
   ],
   "source": [
    "print(type(a_object[0]))\n",
    "print(type(a_object[1]))\n",
    "print(type(a_object[2]))"
   ]
  },
  {
   "cell_type": "code",
   "execution_count": 76,
   "id": "78f15a4d",
   "metadata": {},
   "outputs": [
    {
     "name": "stdout",
     "output_type": "stream",
     "text": [
      "[1 0.1 'oneONE']\n"
     ]
    }
   ],
   "source": [
    "a_object[2] = 'oneONE'\n",
    "print(a_object)"
   ]
  },
  {
   "cell_type": "code",
   "execution_count": 77,
   "id": "52ba6837",
   "metadata": {},
   "outputs": [
    {
     "name": "stdout",
     "output_type": "stream",
     "text": [
      "<class 'int'>\n",
      "<class 'float'>\n",
      "<class 'str'>\n"
     ]
    }
   ],
   "source": [
    "l = [1, 0.1, 'oneONE']\n",
    "print(type(l[0]))\n",
    "print(type(l[1]))\n",
    "print(type(l[2]))"
   ]
  },
  {
   "cell_type": "code",
   "execution_count": 78,
   "id": "09ab0c00",
   "metadata": {},
   "outputs": [
    {
     "name": "stdout",
     "output_type": "stream",
     "text": [
      "[2 0.2 'oneONEoneONE']\n"
     ]
    }
   ],
   "source": [
    "print(a_object * 2)"
   ]
  },
  {
   "cell_type": "code",
   "execution_count": 79,
   "id": "24165ae1",
   "metadata": {},
   "outputs": [
    {
     "name": "stdout",
     "output_type": "stream",
     "text": [
      "[1, 0.1, 'oneONE', 1, 0.1, 'oneONE']\n"
     ]
    }
   ],
   "source": [
    "print(l * 2)"
   ]
  },
  {
   "cell_type": "markdown",
   "id": "0483c566",
   "metadata": {},
   "source": [
    "# astype()을 사용한 데이터형 dtype 변환 (캐스트)"
   ]
  },
  {
   "cell_type": "code",
   "execution_count": 80,
   "id": "69680cac",
   "metadata": {},
   "outputs": [
    {
     "name": "stdout",
     "output_type": "stream",
     "text": [
      "[1 2 3]\n",
      "int32\n"
     ]
    }
   ],
   "source": [
    "import numpy as np\n",
    "\n",
    "a = np.array([1, 2, 3])\n",
    "print(a)\n",
    "print(a.dtype)"
   ]
  },
  {
   "cell_type": "code",
   "execution_count": 81,
   "id": "34042b17",
   "metadata": {},
   "outputs": [
    {
     "name": "stdout",
     "output_type": "stream",
     "text": [
      "[1. 2. 3.]\n",
      "float32\n"
     ]
    }
   ],
   "source": [
    "a_float = a.astype(np.float32)\n",
    "print(a_float)\n",
    "print(a_float.dtype)"
   ]
  },
  {
   "cell_type": "code",
   "execution_count": 82,
   "id": "277443df",
   "metadata": {},
   "outputs": [
    {
     "name": "stdout",
     "output_type": "stream",
     "text": [
      "[1 2 3]\n",
      "int32\n"
     ]
    }
   ],
   "source": [
    "print(a)\n",
    "print(a.dtype)"
   ]
  },
  {
   "cell_type": "code",
   "execution_count": 83,
   "id": "9578d121",
   "metadata": {},
   "outputs": [
    {
     "name": "stdout",
     "output_type": "stream",
     "text": [
      "[1. 2. 3.]\n",
      "float64\n"
     ]
    }
   ],
   "source": [
    "a_float = a.astype(float)\n",
    "print(a_float)\n",
    "print(a_float.dtype)"
   ]
  },
  {
   "cell_type": "code",
   "execution_count": 84,
   "id": "eda55b20",
   "metadata": {},
   "outputs": [
    {
     "name": "stdout",
     "output_type": "stream",
     "text": [
      "['1' '2' '3']\n",
      "<U11\n"
     ]
    }
   ],
   "source": [
    "a_str = a.astype('str')\n",
    "print(a_str)\n",
    "print(a_str.dtype)"
   ]
  },
  {
   "cell_type": "code",
   "execution_count": 85,
   "id": "7c40ae1e",
   "metadata": {},
   "outputs": [
    {
     "name": "stdout",
     "output_type": "stream",
     "text": [
      "[1 2 3]\n",
      "int32\n"
     ]
    }
   ],
   "source": [
    "a_int = a.astype('int32')\n",
    "print(a_int)\n",
    "print(a_int.dtype)"
   ]
  },
  {
   "cell_type": "markdown",
   "id": "86fb4312",
   "metadata": {},
   "source": [
    "# astype()으로 변환(캐스트)할 때의 주의점"
   ]
  },
  {
   "cell_type": "markdown",
   "id": "f5bd7e1f",
   "metadata": {},
   "source": [
    "## float에서 int로의 캐스트 소수점 이하와 잘리고, 마이너스값은 0으로 반올림"
   ]
  },
  {
   "cell_type": "code",
   "execution_count": 86,
   "id": "b86429f1",
   "metadata": {},
   "outputs": [
    {
     "name": "stdout",
     "output_type": "stream",
     "text": [
      "[[-2.  -1.9 -1.8 -1.7 -1.6 -1.5 -1.4 -1.3 -1.2 -1.1]\n",
      " [-1.  -0.9 -0.8 -0.7 -0.6 -0.5 -0.4 -0.3 -0.2 -0.1]\n",
      " [ 0.   0.1  0.2  0.3  0.4  0.5  0.6  0.7  0.8  0.9]\n",
      " [ 1.   1.1  1.2  1.3  1.4  1.5  1.6  1.7  1.8  1.9]\n",
      " [ 2.   2.1  2.2  2.3  2.4  2.5  2.6  2.7  2.8  2.9]]\n",
      "float64\n"
     ]
    }
   ],
   "source": [
    "a = np.arange(50).reshape((5, 10)) / 10 - 2\n",
    "print(a)\n",
    "print(a.dtype)"
   ]
  },
  {
   "cell_type": "code",
   "execution_count": 87,
   "id": "9f70da2a",
   "metadata": {},
   "outputs": [
    {
     "name": "stdout",
     "output_type": "stream",
     "text": [
      "[[-2 -1 -1 -1 -1 -1 -1 -1 -1 -1]\n",
      " [-1  0  0  0  0  0  0  0  0  0]\n",
      " [ 0  0  0  0  0  0  0  0  0  0]\n",
      " [ 1  1  1  1  1  1  1  1  1  1]\n",
      " [ 2  2  2  2  2  2  2  2  2  2]]\n",
      "int64\n"
     ]
    }
   ],
   "source": [
    "a_int = a.astype('int64')\n",
    "print(a_int)\n",
    "print(a_int.dtype)"
   ]
  },
  {
   "cell_type": "markdown",
   "id": "7e8e9b8b",
   "metadata": {},
   "source": [
    "### np.round()을 사용하는 경우 짝수에 대한 반올림\n",
    "### (사사오입 원칙을 따른다) 반올림할 자리의 수가 5이면 반올림 할 때 앞자리의 숫자가 짝수면 내림하고 홀수면 올림"
   ]
  },
  {
   "cell_type": "code",
   "execution_count": 88,
   "id": "e397ff75",
   "metadata": {},
   "outputs": [
    {
     "data": {
      "text/plain": [
       "4"
      ]
     },
     "execution_count": 88,
     "metadata": {},
     "output_type": "execute_result"
    }
   ],
   "source": [
    "round(4.5)"
   ]
  },
  {
   "cell_type": "code",
   "execution_count": 89,
   "id": "b6cc3960",
   "metadata": {},
   "outputs": [
    {
     "data": {
      "text/plain": [
       "4"
      ]
     },
     "execution_count": 89,
     "metadata": {},
     "output_type": "execute_result"
    }
   ],
   "source": [
    "round(3.5)"
   ]
  },
  {
   "cell_type": "code",
   "execution_count": 90,
   "id": "2986b6c2",
   "metadata": {},
   "outputs": [
    {
     "name": "stdout",
     "output_type": "stream",
     "text": [
      "[[-2 -2 -2 -2 -2 -2 -1 -1 -1 -1]\n",
      " [-1 -1 -1 -1 -1  0  0  0  0  0]\n",
      " [ 0  0  0  0  0  0  1  1  1  1]\n",
      " [ 1  1  1  1  1  2  2  2  2  2]\n",
      " [ 2  2  2  2  2  2  3  3  3  3]]\n"
     ]
    }
   ],
   "source": [
    "print(np.round(a).astype(int)) # -0.5가 0"
   ]
  },
  {
   "cell_type": "code",
   "execution_count": 91,
   "id": "7d51bf80",
   "metadata": {},
   "outputs": [
    {
     "name": "stdout",
     "output_type": "stream",
     "text": [
      "[[-2 -2 -2 -2 -2 -2 -1 -1 -1 -1]\n",
      " [-1 -1 -1 -1 -1 -1  0  0  0  0]\n",
      " [ 0  0  0  0  0  1  1  1  1  1]\n",
      " [ 1  1  1  1  1  2  2  2  2  2]\n",
      " [ 2  2  2  2  2  3  3  3  3  3]]\n"
     ]
    }
   ],
   "source": [
    "def my_round(x, digit=0):\n",
    "    p = 10 ** digit\n",
    "    s = np.copysign(1, x)\n",
    "    return (s * x * p * 2 + 1) // 2 / p * s\n",
    "\n",
    "print(my_round(a).astype(int))  # -0.5가 -1이 되도록 하고 싶은 경우"
   ]
  },
  {
   "cell_type": "markdown",
   "id": "208dcf09",
   "metadata": {},
   "source": [
    "# 묵시적 형 변환"
   ]
  },
  {
   "cell_type": "markdown",
   "id": "8346956f",
   "metadata": {},
   "source": [
    "### astype()를 사용한 명시적 형변환이 아닌 연산에 따라 암묵적으로 형변환이 되는 경우o\n",
    "### 예를 들어 / 연산자를 사용한 나눗셈은 부동소수점 float를 리턴"
   ]
  },
  {
   "cell_type": "code",
   "execution_count": 92,
   "id": "5349b9a5",
   "metadata": {},
   "outputs": [
    {
     "name": "stdout",
     "output_type": "stream",
     "text": [
      "[1 2 3]\n",
      "int32\n"
     ]
    }
   ],
   "source": [
    "a = np.array([1, 2, 3])\n",
    "print(a)\n",
    "print(a.dtype)"
   ]
  },
  {
   "cell_type": "code",
   "execution_count": 93,
   "id": "f890c592",
   "metadata": {},
   "outputs": [
    {
     "name": "stdout",
     "output_type": "stream",
     "text": [
      "float64\n"
     ]
    }
   ],
   "source": [
    "print((a / 1).dtype)"
   ]
  },
  {
   "cell_type": "code",
   "execution_count": 94,
   "id": "c29551e9",
   "metadata": {},
   "outputs": [
    {
     "name": "stdout",
     "output_type": "stream",
     "text": [
      "float64\n"
     ]
    }
   ],
   "source": [
    "print((a / 1.0).dtype)"
   ]
  },
  {
   "cell_type": "markdown",
   "id": "6d8b861b",
   "metadata": {},
   "source": [
    "### +, -, *, //, **의 연산자를 사용한 연산은 정수int끼리면 int정수, float가 포함되었다면 float형"
   ]
  },
  {
   "cell_type": "markdown",
   "id": "db321b46",
   "metadata": {},
   "source": [
    "### 파이썬 산술연산자 7가지 ( + , -, *, /, **, //, %)\n",
    "### 1. 덧셈 ( + ) · 2. 뺄셈 ( - ) · 3. 곱셈 ( * ) · 4. 나눗셈 ( / ) · 5. 거듭제곱 ( ** ) · 6. 몫 ( // ) 7. 나머지 ( % )"
   ]
  },
  {
   "cell_type": "code",
   "execution_count": 95,
   "id": "463661a5",
   "metadata": {},
   "outputs": [
    {
     "name": "stdout",
     "output_type": "stream",
     "text": [
      "int32\n"
     ]
    }
   ],
   "source": [
    "print((a + 1).dtype)"
   ]
  },
  {
   "cell_type": "code",
   "execution_count": 96,
   "id": "50f24bf4",
   "metadata": {},
   "outputs": [
    {
     "name": "stdout",
     "output_type": "stream",
     "text": [
      "float64\n"
     ]
    }
   ],
   "source": [
    "print((a + 1.0).dtype)"
   ]
  },
  {
   "cell_type": "code",
   "execution_count": 97,
   "id": "230dcf3c",
   "metadata": {},
   "outputs": [
    {
     "name": "stdout",
     "output_type": "stream",
     "text": [
      "int32\n"
     ]
    }
   ],
   "source": [
    "print((a - 1).dtype)"
   ]
  },
  {
   "cell_type": "code",
   "execution_count": 98,
   "id": "5f2475e8",
   "metadata": {},
   "outputs": [
    {
     "name": "stdout",
     "output_type": "stream",
     "text": [
      "float64\n"
     ]
    }
   ],
   "source": [
    "print((a - 1.0).dtype)"
   ]
  },
  {
   "cell_type": "code",
   "execution_count": 99,
   "id": "061e0a44",
   "metadata": {},
   "outputs": [
    {
     "name": "stdout",
     "output_type": "stream",
     "text": [
      "int32\n"
     ]
    }
   ],
   "source": [
    "print((a * 1).dtype)"
   ]
  },
  {
   "cell_type": "code",
   "execution_count": 100,
   "id": "dbf2608e",
   "metadata": {},
   "outputs": [
    {
     "name": "stdout",
     "output_type": "stream",
     "text": [
      "float64\n"
     ]
    }
   ],
   "source": [
    "print((a * 1.0).dtype)"
   ]
  },
  {
   "cell_type": "code",
   "execution_count": 101,
   "id": "d90dfd9f",
   "metadata": {},
   "outputs": [
    {
     "name": "stdout",
     "output_type": "stream",
     "text": [
      "int32\n"
     ]
    }
   ],
   "source": [
    "print((a // 1).dtype)"
   ]
  },
  {
   "cell_type": "code",
   "execution_count": 102,
   "id": "e0e1158b",
   "metadata": {},
   "outputs": [
    {
     "name": "stdout",
     "output_type": "stream",
     "text": [
      "float64\n"
     ]
    }
   ],
   "source": [
    "print((a // 1.0).dtype)"
   ]
  },
  {
   "cell_type": "code",
   "execution_count": 103,
   "id": "95d8af48",
   "metadata": {},
   "outputs": [
    {
     "name": "stdout",
     "output_type": "stream",
     "text": [
      "int32\n"
     ]
    }
   ],
   "source": [
    "print((a ** 1).dtype)"
   ]
  },
  {
   "cell_type": "code",
   "execution_count": 104,
   "id": "7285cc83",
   "metadata": {},
   "outputs": [
    {
     "name": "stdout",
     "output_type": "stream",
     "text": [
      "float64\n"
     ]
    }
   ],
   "source": [
    "print((a ** 1.0).dtype)"
   ]
  },
  {
   "cell_type": "code",
   "execution_count": 105,
   "id": "07d9353a",
   "metadata": {},
   "outputs": [
    {
     "name": "stdout",
     "output_type": "stream",
     "text": [
      "[1 1 1]\n"
     ]
    }
   ],
   "source": [
    "ones_int16 = np.ones(3, np.int16)\n",
    "print(ones_int16)"
   ]
  },
  {
   "cell_type": "code",
   "execution_count": 106,
   "id": "904c7f81",
   "metadata": {},
   "outputs": [
    {
     "name": "stdout",
     "output_type": "stream",
     "text": [
      "[1 1 1]\n"
     ]
    }
   ],
   "source": [
    "ones_int32 = np.ones(3, np.int32)\n",
    "print(ones_int32)"
   ]
  },
  {
   "cell_type": "code",
   "execution_count": 107,
   "id": "4c1e15eb",
   "metadata": {},
   "outputs": [
    {
     "name": "stdout",
     "output_type": "stream",
     "text": [
      "int32\n"
     ]
    }
   ],
   "source": [
    "print((ones_int16 + ones_int32).dtype)"
   ]
  },
  {
   "cell_type": "code",
   "execution_count": 108,
   "id": "16150b66",
   "metadata": {},
   "outputs": [
    {
     "name": "stdout",
     "output_type": "stream",
     "text": [
      "[1. 1. 1.]\n"
     ]
    }
   ],
   "source": [
    "ones_float16 = np.ones(3, np.float16)\n",
    "print(ones_float16)"
   ]
  },
  {
   "cell_type": "code",
   "execution_count": 109,
   "id": "20b8b3ca",
   "metadata": {},
   "outputs": [
    {
     "name": "stdout",
     "output_type": "stream",
     "text": [
      "float32\n"
     ]
    }
   ],
   "source": [
    "print((ones_int16 + ones_float16).dtype)"
   ]
  },
  {
   "cell_type": "code",
   "execution_count": null,
   "id": "a79506ad",
   "metadata": {},
   "outputs": [],
   "source": []
  }
 ],
 "metadata": {
  "kernelspec": {
   "display_name": "Python 3 (ipykernel)",
   "language": "python",
   "name": "python3"
  },
  "language_info": {
   "codemirror_mode": {
    "name": "ipython",
    "version": 3
   },
   "file_extension": ".py",
   "mimetype": "text/x-python",
   "name": "python",
   "nbconvert_exporter": "python",
   "pygments_lexer": "ipython3",
   "version": "3.9.13"
  }
 },
 "nbformat": 4,
 "nbformat_minor": 5
}
