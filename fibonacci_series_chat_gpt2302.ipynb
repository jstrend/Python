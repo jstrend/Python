{
  "nbformat": 4,
  "nbformat_minor": 0,
  "metadata": {
    "colab": {
      "private_outputs": true,
      "provenance": [],
      "authorship_tag": "ABX9TyPe9YpsUFLEWkZK1abn3G0k",
      "include_colab_link": true
    },
    "kernelspec": {
      "name": "python3",
      "display_name": "Python 3"
    },
    "language_info": {
      "name": "python"
    }
  },
  "cells": [
    {
      "cell_type": "markdown",
      "metadata": {
        "id": "view-in-github",
        "colab_type": "text"
      },
      "source": [
        "<a href=\"https://colab.research.google.com/github/jstrend/Python/blob/main/fibonacci_series_chat_gpt2302.ipynb\" target=\"_parent\"><img src=\"https://colab.research.google.com/assets/colab-badge.svg\" alt=\"Open In Colab\"/></a>"
      ]
    },
    {
      "cell_type": "code",
      "execution_count": null,
      "metadata": {
        "id": "_LoROdqo7YHF"
      },
      "outputs": [],
      "source": [
        "def fibonacci(n):\n",
        "    \"\"\"Return the first n numbers in the Fibonacci sequence.\"\"\"\n",
        "    sequence = [0, 1]\n",
        "    for i in range(2, n):\n",
        "        sequence.append(sequence[i-1] + sequence[i-2])\n",
        "    return sequence[:n]"
      ]
    },
    {
      "cell_type": "code",
      "source": [
        "fibonacci(10)"
      ],
      "metadata": {
        "id": "c03Ov_zC7Z02"
      },
      "execution_count": null,
      "outputs": []
    },
    {
      "cell_type": "code",
      "source": [],
      "metadata": {
        "id": "cee5JJSF7k2C"
      },
      "execution_count": null,
      "outputs": []
    }
  ]
}